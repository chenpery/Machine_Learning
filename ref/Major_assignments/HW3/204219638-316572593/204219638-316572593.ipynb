{
  "nbformat": 4,
  "nbformat_minor": 0,
  "metadata": {
    "colab": {
      "name": "Major_HW3.ipynb",
      "provenance": [],
      "collapsed_sections": [],
      "toc_visible": true
    },
    "kernelspec": {
      "name": "python3",
      "display_name": "Python 3"
    },
    "language_info": {
      "name": "python"
    }
  },
  "cells": [
    {
      "cell_type": "markdown",
      "metadata": {
        "id": "AHamqSLsLCoG"
      },
      "source": [
        "#HW3 - Regression"
      ]
    },
    {
      "cell_type": "code",
      "metadata": {
        "id": "pZDdZ-ZALW0U"
      },
      "source": [
        "import numpy as np\n",
        "import pandas as pd\n",
        "import matplotlib.pyplot as plt\n",
        "import seaborn as sns\n",
        "import os\n",
        "import sklearn\n",
        "from scipy import stats\n",
        "from sklearn.model_selection import train_test_split\n",
        "from tabulate import tabulate\n",
        "\n",
        "\n",
        "# Import sklearn libraries\n",
        "from sklearn.neighbors import KNeighborsClassifier\n",
        "from sklearn.tree import DecisionTreeClassifier\n",
        "from sklearn.neighbors import DistanceMetric\n",
        "from sklearn.metrics import accuracy_score\n",
        "from sklearn.svm import LinearSVC\n",
        "\n",
        "# !pip uninstall scikit-learn\n",
        "# !pip install -U scikit-learn\n",
        "\n",
        "# sklearn.__version__"
      ],
      "execution_count": 568,
      "outputs": []
    },
    {
      "cell_type": "markdown",
      "metadata": {
        "id": "9dl_WJh8LNnV"
      },
      "source": [
        "# Section 1: Quick data exploration and preparation"
      ]
    },
    {
      "cell_type": "code",
      "metadata": {
        "colab": {
          "base_uri": "https://localhost:8080/"
        },
        "id": "fqIzceWnKR_N",
        "outputId": "12c17168-9ec4-40f3-9ee1-0d3e23c61bcf"
      },
      "source": [
        "##### Loading CSV from Github: #####\n",
        "#set your working_dir\n",
        "working_dir = os.path.join(os.getcwd(), 'covid-19')\n",
        "\n",
        "variant_labled_csv_file_path = 'https://raw.githubusercontent.com/chenp640/ML_Major_HW1/main/variant_labeled.csv'\n",
        "\n",
        "# Import csv file to pandas\n",
        "df = pd.read_csv(variant_labled_csv_file_path, sep=',', header=0)\n",
        "print (\"The shape of loaded 'Variant_labeled' DataFrame is: \", end='')\n",
        "df.shape"
      ],
      "execution_count": 569,
      "outputs": [
        {
          "output_type": "stream",
          "text": [
            "The shape of loaded 'Variant_labeled' DataFrame is: "
          ],
          "name": "stdout"
        },
        {
          "output_type": "execute_result",
          "data": {
            "text/plain": [
              "(4000, 34)"
            ]
          },
          "metadata": {
            "tags": []
          },
          "execution_count": 569
        }
      ]
    },
    {
      "cell_type": "markdown",
      "metadata": {
        "id": "a52XSy0pMmAJ"
      },
      "source": [
        "## Splitting the data"
      ]
    },
    {
      "cell_type": "markdown",
      "metadata": {
        "id": "5gSF6nSgMti7"
      },
      "source": [
        "### (Q1)\n",
        "Splitting the data into a train set and test set by 80/20."
      ]
    },
    {
      "cell_type": "code",
      "metadata": {
        "colab": {
          "base_uri": "https://localhost:8080/",
          "height": 226
        },
        "id": "IwQSdP0LM3zL",
        "outputId": "bebe64a9-29c1-4159-8dc2-dc720a022017"
      },
      "source": [
        "#  __________________________________________________________\n",
        "# | Splitting the whole DataFrame into |train_set  |test_set |\n",
        "# |                             size:  |   3200    |   800   |\n",
        "# |____________________________________|___________|_________|\n",
        "train_set, test_set = train_test_split(df, train_size = 0.8, random_state=11)\n",
        "train_set.head()"
      ],
      "execution_count": 570,
      "outputs": [
        {
          "output_type": "execute_result",
          "data": {
            "text/html": [
              "<div>\n",
              "<style scoped>\n",
              "    .dataframe tbody tr th:only-of-type {\n",
              "        vertical-align: middle;\n",
              "    }\n",
              "\n",
              "    .dataframe tbody tr th {\n",
              "        vertical-align: top;\n",
              "    }\n",
              "\n",
              "    .dataframe thead th {\n",
              "        text-align: right;\n",
              "    }\n",
              "</style>\n",
              "<table border=\"1\" class=\"dataframe\">\n",
              "  <thead>\n",
              "    <tr style=\"text-align: right;\">\n",
              "      <th></th>\n",
              "      <th>ID</th>\n",
              "      <th>AgeGroup</th>\n",
              "      <th>BMI</th>\n",
              "      <th>BloodType</th>\n",
              "      <th>ConversatiosPerDay</th>\n",
              "      <th>DisciplineScore</th>\n",
              "      <th>HappinessScore</th>\n",
              "      <th>HouseholdExpenseOnPresents</th>\n",
              "      <th>HouseholdExpenseOnSocialGames</th>\n",
              "      <th>HouseholdExpenseParkingTicketsPerYear</th>\n",
              "      <th>MedicalCarePerYear</th>\n",
              "      <th>NrCousins</th>\n",
              "      <th>PCR_10</th>\n",
              "      <th>PCR_17</th>\n",
              "      <th>PCR_19</th>\n",
              "      <th>PCR_32</th>\n",
              "      <th>PCR_45</th>\n",
              "      <th>PCR_46</th>\n",
              "      <th>PCR_7</th>\n",
              "      <th>PCR_72</th>\n",
              "      <th>PCR_76</th>\n",
              "      <th>PCR_8</th>\n",
              "      <th>PCR_83</th>\n",
              "      <th>PCR_89</th>\n",
              "      <th>PCR_9</th>\n",
              "      <th>PCR_93</th>\n",
              "      <th>PCR_95</th>\n",
              "      <th>Sex</th>\n",
              "      <th>SocialActivitiesPerDay</th>\n",
              "      <th>SocialMediaPerDay</th>\n",
              "      <th>SportsPerDay</th>\n",
              "      <th>StepsPerYear</th>\n",
              "      <th>StudingPerDay</th>\n",
              "      <th>VariantScore</th>\n",
              "    </tr>\n",
              "  </thead>\n",
              "  <tbody>\n",
              "    <tr>\n",
              "      <th>1173</th>\n",
              "      <td>158</td>\n",
              "      <td>5.0</td>\n",
              "      <td>16.04</td>\n",
              "      <td>O+</td>\n",
              "      <td>10.0</td>\n",
              "      <td>5.0</td>\n",
              "      <td>4.0</td>\n",
              "      <td>767.42</td>\n",
              "      <td>272.51</td>\n",
              "      <td>1009.33</td>\n",
              "      <td>24.0</td>\n",
              "      <td>5.0</td>\n",
              "      <td>0.871713</td>\n",
              "      <td>-0.926689</td>\n",
              "      <td>0.775699</td>\n",
              "      <td>-0.907360</td>\n",
              "      <td>1.740726</td>\n",
              "      <td>1.208933</td>\n",
              "      <td>-0.927472</td>\n",
              "      <td>0.961847</td>\n",
              "      <td>1.988623</td>\n",
              "      <td>-1.219115</td>\n",
              "      <td>1.670132</td>\n",
              "      <td>0.607091</td>\n",
              "      <td>1.244748</td>\n",
              "      <td>0.506346</td>\n",
              "      <td>2.721963</td>\n",
              "      <td>M</td>\n",
              "      <td>62.25</td>\n",
              "      <td>15.89</td>\n",
              "      <td>NaN</td>\n",
              "      <td>5.0</td>\n",
              "      <td>10.1</td>\n",
              "      <td>0.400941</td>\n",
              "    </tr>\n",
              "    <tr>\n",
              "      <th>2611</th>\n",
              "      <td>10288</td>\n",
              "      <td>6.0</td>\n",
              "      <td>17.76</td>\n",
              "      <td>AB-</td>\n",
              "      <td>16.0</td>\n",
              "      <td>10.0</td>\n",
              "      <td>7.0</td>\n",
              "      <td>1665.10</td>\n",
              "      <td>118.93</td>\n",
              "      <td>418.77</td>\n",
              "      <td>52.0</td>\n",
              "      <td>6.0</td>\n",
              "      <td>1.213628</td>\n",
              "      <td>1.127280</td>\n",
              "      <td>-2.398069</td>\n",
              "      <td>-0.847628</td>\n",
              "      <td>2.132507</td>\n",
              "      <td>1.169675</td>\n",
              "      <td>-0.243295</td>\n",
              "      <td>0.781032</td>\n",
              "      <td>2.994023</td>\n",
              "      <td>0.215775</td>\n",
              "      <td>2.092452</td>\n",
              "      <td>3.501812</td>\n",
              "      <td>1.477301</td>\n",
              "      <td>1.188095</td>\n",
              "      <td>1.933134</td>\n",
              "      <td>F</td>\n",
              "      <td>47.63</td>\n",
              "      <td>78.94</td>\n",
              "      <td>23.81</td>\n",
              "      <td>6.0</td>\n",
              "      <td>NaN</td>\n",
              "      <td>0.486476</td>\n",
              "    </tr>\n",
              "    <tr>\n",
              "      <th>806</th>\n",
              "      <td>8353</td>\n",
              "      <td>3.0</td>\n",
              "      <td>19.30</td>\n",
              "      <td>NaN</td>\n",
              "      <td>6.0</td>\n",
              "      <td>5.0</td>\n",
              "      <td>3.0</td>\n",
              "      <td>313.34</td>\n",
              "      <td>510.14</td>\n",
              "      <td>758.64</td>\n",
              "      <td>27.0</td>\n",
              "      <td>3.0</td>\n",
              "      <td>0.495729</td>\n",
              "      <td>-1.358031</td>\n",
              "      <td>1.876502</td>\n",
              "      <td>0.730574</td>\n",
              "      <td>-2.750321</td>\n",
              "      <td>-1.080803</td>\n",
              "      <td>-0.636993</td>\n",
              "      <td>-0.575737</td>\n",
              "      <td>-4.627786</td>\n",
              "      <td>-1.248662</td>\n",
              "      <td>NaN</td>\n",
              "      <td>-1.452406</td>\n",
              "      <td>-0.411393</td>\n",
              "      <td>-2.312345</td>\n",
              "      <td>2.204755</td>\n",
              "      <td>M</td>\n",
              "      <td>86.53</td>\n",
              "      <td>119.93</td>\n",
              "      <td>43.27</td>\n",
              "      <td>3.0</td>\n",
              "      <td>7.7</td>\n",
              "      <td>0.478504</td>\n",
              "    </tr>\n",
              "    <tr>\n",
              "      <th>1533</th>\n",
              "      <td>5958</td>\n",
              "      <td>6.0</td>\n",
              "      <td>15.14</td>\n",
              "      <td>NaN</td>\n",
              "      <td>14.0</td>\n",
              "      <td>NaN</td>\n",
              "      <td>6.0</td>\n",
              "      <td>NaN</td>\n",
              "      <td>580.55</td>\n",
              "      <td>227.36</td>\n",
              "      <td>34.0</td>\n",
              "      <td>6.0</td>\n",
              "      <td>2.822455</td>\n",
              "      <td>-0.974027</td>\n",
              "      <td>0.174849</td>\n",
              "      <td>0.366057</td>\n",
              "      <td>-1.307581</td>\n",
              "      <td>-0.535928</td>\n",
              "      <td>-0.337134</td>\n",
              "      <td>4.141643</td>\n",
              "      <td>-2.160617</td>\n",
              "      <td>-3.329401</td>\n",
              "      <td>-1.310052</td>\n",
              "      <td>0.703816</td>\n",
              "      <td>5.846958</td>\n",
              "      <td>-1.059084</td>\n",
              "      <td>6.470677</td>\n",
              "      <td>F</td>\n",
              "      <td>94.18</td>\n",
              "      <td>26.81</td>\n",
              "      <td>47.09</td>\n",
              "      <td>6.0</td>\n",
              "      <td>2.2</td>\n",
              "      <td>0.471858</td>\n",
              "    </tr>\n",
              "    <tr>\n",
              "      <th>1000</th>\n",
              "      <td>9753</td>\n",
              "      <td>5.0</td>\n",
              "      <td>19.06</td>\n",
              "      <td>O+</td>\n",
              "      <td>13.0</td>\n",
              "      <td>6.0</td>\n",
              "      <td>6.0</td>\n",
              "      <td>1274.53</td>\n",
              "      <td>498.55</td>\n",
              "      <td>627.96</td>\n",
              "      <td>30.0</td>\n",
              "      <td>5.0</td>\n",
              "      <td>0.935188</td>\n",
              "      <td>1.098444</td>\n",
              "      <td>-2.696669</td>\n",
              "      <td>0.247230</td>\n",
              "      <td>-1.033631</td>\n",
              "      <td>-0.373945</td>\n",
              "      <td>0.487853</td>\n",
              "      <td>-1.241913</td>\n",
              "      <td>-1.796993</td>\n",
              "      <td>NaN</td>\n",
              "      <td>-1.042995</td>\n",
              "      <td>0.562345</td>\n",
              "      <td>-0.224168</td>\n",
              "      <td>-0.927832</td>\n",
              "      <td>1.444222</td>\n",
              "      <td>M</td>\n",
              "      <td>85.13</td>\n",
              "      <td>126.48</td>\n",
              "      <td>42.56</td>\n",
              "      <td>5.0</td>\n",
              "      <td>6.2</td>\n",
              "      <td>0.670306</td>\n",
              "    </tr>\n",
              "  </tbody>\n",
              "</table>\n",
              "</div>"
            ],
            "text/plain": [
              "         ID  AgeGroup    BMI  ... StepsPerYear  StudingPerDay  VariantScore\n",
              "1173    158       5.0  16.04  ...          5.0           10.1      0.400941\n",
              "2611  10288       6.0  17.76  ...          6.0            NaN      0.486476\n",
              "806    8353       3.0  19.30  ...          3.0            7.7      0.478504\n",
              "1533   5958       6.0  15.14  ...          6.0            2.2      0.471858\n",
              "1000   9753       5.0  19.06  ...          5.0            6.2      0.670306\n",
              "\n",
              "[5 rows x 34 columns]"
            ]
          },
          "metadata": {
            "tags": []
          },
          "execution_count": 570
        }
      ]
    },
    {
      "cell_type": "markdown",
      "metadata": {
        "id": "qkAJ8qsPNt4k"
      },
      "source": [
        "## Before preprocessing"
      ]
    },
    {
      "cell_type": "markdown",
      "metadata": {
        "id": "Xiav2kVkNzhb"
      },
      "source": [
        "### (Q2)"
      ]
    },
    {
      "cell_type": "code",
      "metadata": {
        "colab": {
          "base_uri": "https://localhost:8080/",
          "height": 540
        },
        "id": "aWWULCgYQkK9",
        "outputId": "a4948929-3bbc-4cb0-f43c-df99fc8b7644"
      },
      "source": [
        "sns.set_theme()\n",
        "f, axs = plt.subplots(1, 1, figsize=(10, 8))\n",
        "f = sns.kdeplot(data=train_set, x=\"VariantScore\", hue=\"Sex\", fill=True, common_norm=False, palette=\"crest\", alpha=.5, linewidth=0)\n",
        "f.set_title('Conditional distribution of the target VariantScore given the Sex of the patient', y=1.05)\n",
        "_ = f.legend(labels=[\"Male\",\"Female\"])"
      ],
      "execution_count": 571,
      "outputs": [
        {
          "output_type": "display_data",
          "data": {
            "image/png": "[encoded data removed]",
            "text/plain": [
              "<Figure size 720x576 with 1 Axes>"
            ]
          },
          "metadata": {
            "tags": []
          }
        }
      ]
    },
    {
      "cell_type": "markdown",
      "metadata": {
        "id": "A5hsf98AS73O"
      },
      "source": [
        "### (Q3)"
      ]
    },
    {
      "cell_type": "code",
      "metadata": {
        "colab": {
          "base_uri": "https://localhost:8080/",
          "height": 509
        },
        "id": "jywDqdeuTKDZ",
        "outputId": "9aca747a-9e9d-4293-a6a1-a6a5074d73a7"
      },
      "source": [
        "g = sns.FacetGrid(train_set, col=\"BloodType\", height=3.5, aspect=.65, col_wrap=5)\n",
        "g.map(sns.kdeplot, \"VariantScore\", fill=True, common_norm=False, palette=\"crest\", alpha=.5, linewidth=0)\n",
        "g.set_titles(col_template=\"{col_name}\", size=12)\n",
        "g.set_xlabels(size=12)\n",
        "for ax in g.axes:\n",
        "  ax.grid(alpha=0.5)"
      ],
      "execution_count": 572,
      "outputs": [
        {
          "output_type": "display_data",
          "data": {
            "image/png": "[encoded data removed]",
            "text/plain": [
              "<Figure size 819x504 with 8 Axes>"
            ]
          },
          "metadata": {
            "tags": []
          }
        }
      ]
    },
    {
      "cell_type": "markdown",
      "metadata": {
        "id": "JNfy9_Cjc2rD"
      },
      "source": [
        "## Preprocessing (data preparation)"
      ]
    },
    {
      "cell_type": "code",
      "metadata": {
        "colab": {
          "base_uri": "https://localhost:8080/"
        },
        "id": "kBngtuz9RcXM",
        "outputId": "c5af04f2-bc4c-4551-8a8d-1f6f61fbd7bc"
      },
      "source": [
        "train_set_column_names = train_set.columns\n",
        "\n",
        "print(\"Num of missing values (NaN) for each feature on Train Set:\", end='\\n\\n')\n",
        "for i in range (len(train_set_column_names)):\n",
        "  print(train_set_column_names[i], \"     \", train_set[train_set_column_names[i]].isnull().sum())"
      ],
      "execution_count": 573,
      "outputs": [
        {
          "output_type": "stream",
          "text": [
            "Num of missing values (NaN) for each feature on Train Set:\n",
            "\n",
            "ID       0\n",
            "AgeGroup       285\n",
            "BMI       331\n",
            "BloodType       328\n",
            "ConversatiosPerDay       318\n",
            "DisciplineScore       315\n",
            "HappinessScore       352\n",
            "HouseholdExpenseOnPresents       306\n",
            "HouseholdExpenseOnSocialGames       321\n",
            "HouseholdExpenseParkingTicketsPerYear       279\n",
            "MedicalCarePerYear       289\n",
            "NrCousins       285\n",
            "PCR_10       335\n",
            "PCR_17       310\n",
            "PCR_19       346\n",
            "PCR_32       314\n",
            "PCR_45       305\n",
            "PCR_46       313\n",
            "PCR_7       318\n",
            "PCR_72       306\n",
            "PCR_76       314\n",
            "PCR_8       314\n",
            "PCR_83       319\n",
            "PCR_89       336\n",
            "PCR_9       303\n",
            "PCR_93       333\n",
            "PCR_95       300\n",
            "Sex       0\n",
            "SocialActivitiesPerDay       325\n",
            "SocialMediaPerDay       297\n",
            "SportsPerDay       304\n",
            "StepsPerYear       285\n",
            "StudingPerDay       355\n",
            "VariantScore       0\n"
          ],
          "name": "stdout"
        }
      ]
    },
    {
      "cell_type": "code",
      "metadata": {
        "colab": {
          "base_uri": "https://localhost:8080/"
        },
        "id": "YQKAu_JxRMj9",
        "outputId": "fc0facb7-a57a-45e1-9a20-771c34419db5"
      },
      "source": [
        "# Fill missing values by distribution of non-missing values for all the features\n",
        "def fillMissingValues(data_set, column_names):\n",
        "  for i in range (len(column_names)):\n",
        "    d = data_set[column_names[i]].value_counts(normalize=True)\n",
        "    missing = data_set[column_names[i]].isna()\n",
        "    data_set.loc[missing, column_names[i]] = np.random.choice(d.index, size=len(data_set[missing]),p=d.values)\n",
        "\n",
        "fillMissingValues(train_set, train_set_column_names)\n",
        "fillMissingValues(test_set, train_set_column_names)"
      ],
      "execution_count": 574,
      "outputs": [
        {
          "output_type": "stream",
          "text": [
            "/usr/local/lib/python3.7/dist-packages/pandas/core/indexing.py:1743: SettingWithCopyWarning: \n",
            "A value is trying to be set on a copy of a slice from a DataFrame.\n",
            "Try using .loc[row_indexer,col_indexer] = value instead\n",
            "\n",
            "See the caveats in the documentation: https://pandas.pydata.org/pandas-docs/stable/user_guide/indexing.html#returning-a-view-versus-a-copy\n",
            "  isetter(ilocs[0], value)\n"
          ],
          "name": "stderr"
        }
      ]
    },
    {
      "cell_type": "code",
      "metadata": {
        "colab": {
          "base_uri": "https://localhost:8080/"
        },
        "id": "4yK_xZ2_RUyN",
        "outputId": "9c1a8425-1639-446d-cf0f-8edc46908e56"
      },
      "source": [
        "print(\"Num of missing values (NaN) for each feature on Train Set after filling missing values:\", end='\\n\\n')\n",
        "for i in range (len(train_set_column_names)):\n",
        "  print(train_set_column_names[i], \"     \", train_set[train_set_column_names[i]].isnull().sum())"
      ],
      "execution_count": 575,
      "outputs": [
        {
          "output_type": "stream",
          "text": [
            "Num of missing values (NaN) for each feature on Train Set after filling missing values:\n",
            "\n",
            "ID       0\n",
            "AgeGroup       0\n",
            "BMI       0\n",
            "BloodType       0\n",
            "ConversatiosPerDay       0\n",
            "DisciplineScore       0\n",
            "HappinessScore       0\n",
            "HouseholdExpenseOnPresents       0\n",
            "HouseholdExpenseOnSocialGames       0\n",
            "HouseholdExpenseParkingTicketsPerYear       0\n",
            "MedicalCarePerYear       0\n",
            "NrCousins       0\n",
            "PCR_10       0\n",
            "PCR_17       0\n",
            "PCR_19       0\n",
            "PCR_32       0\n",
            "PCR_45       0\n",
            "PCR_46       0\n",
            "PCR_7       0\n",
            "PCR_72       0\n",
            "PCR_76       0\n",
            "PCR_8       0\n",
            "PCR_83       0\n",
            "PCR_89       0\n",
            "PCR_9       0\n",
            "PCR_93       0\n",
            "PCR_95       0\n",
            "Sex       0\n",
            "SocialActivitiesPerDay       0\n",
            "SocialMediaPerDay       0\n",
            "SportsPerDay       0\n",
            "StepsPerYear       0\n",
            "StudingPerDay       0\n",
            "VariantScore       0\n"
          ],
          "name": "stdout"
        }
      ]
    },
    {
      "cell_type": "code",
      "metadata": {
        "id": "x48bkNtOTHQT"
      },
      "source": [
        "VariantScore_loc = train_set.columns.get_loc('VariantScore')\n",
        "X_train, Y_train = train_set.iloc[:, 0 : VariantScore_loc], train_set.iloc[:, VariantScore_loc:]\n",
        "X_train_column_names = X_train.columns\n",
        "\n",
        "X_test, Y_test = test_set.iloc[:, 0 : VariantScore_loc], test_set.iloc[:, VariantScore_loc:]\n",
        "X_test_column_names = X_train_column_names"
      ],
      "execution_count": 576,
      "outputs": []
    },
    {
      "cell_type": "code",
      "metadata": {
        "id": "n0t_PgUUnJzD"
      },
      "source": [
        "# Transform BloodType from Category to Numeric\n",
        "def BloodTypeConvert(x):    # Convert BloodType from 'Regular format' to numeric identifier\n",
        "  blood_types = {'AB+' : 0, 'AB-' : 0, 'A+' : 0, 'A-' : 0, 'B+' : 1, 'B-' : 1, 'O+' : 1, 'O-' : 1}\n",
        "  return blood_types[x]\n",
        "\n",
        "X_train['BloodType'] = [BloodTypeConvert(x) for x in X_train['BloodType'].to_list()]\n",
        "X_test['BloodType'] = [BloodTypeConvert(x) for x in X_test['BloodType'].to_list()]\n",
        "\n",
        "# Transform Sex from Category to Numeric ('0' for Male, '1' for Female)\n",
        "X_train['Sex'] = [0 if x == 'M' else 1 for x in X_train['Sex'].to_list()]\n",
        "X_test['Sex'] = [0 if x == 'M' else 1 for x in X_test['Sex'].to_list()]"
      ],
      "execution_count": 577,
      "outputs": []
    },
    {
      "cell_type": "code",
      "metadata": {
        "colab": {
          "base_uri": "https://localhost:8080/",
          "height": 826
        },
        "id": "LlizN4JiP6pc",
        "outputId": "0141941f-4e46-4d4f-fe30-24d2a100fcd4"
      },
      "source": [
        "def printCorrelationMatrix(title):\n",
        "  sns.set_theme(style=\"white\")\n",
        "\n",
        "  # Compute the correlation matrix\n",
        "  corr = X_train.corr()\n",
        "\n",
        "  # Generate a mask for the upper triangle\n",
        "  mask = np.triu(np.ones_like(corr, dtype=bool))\n",
        "\n",
        "  # Set up the matplotlib figure\n",
        "  f, ax = plt.subplots(figsize=(12, 12))\n",
        "\n",
        "  # Generate a custom diverging colormap\n",
        "  cmap = sns.diverging_palette(230, 20, as_cmap=True)\n",
        "\n",
        "  # Draw the heatmap with the mask and correct aspect ratio\n",
        "  sns.heatmap(corr, mask=mask, cmap=cmap, center=0,\n",
        "              square=True, linewidths=.5, cbar_kws={\"shrink\": .5})\n",
        "\n",
        "  _ = plt.title(title, fontsize=18, pad=10)\n",
        "\n",
        "printCorrelationMatrix('Original Correlation Matrix')"
      ],
      "execution_count": 578,
      "outputs": [
        {
          "output_type": "display_data",
          "data": {
            "image/png": "[encoded data removed]",
            "text/plain": [
              "<Figure size 864x864 with 2 Axes>"
            ]
          },
          "metadata": {
            "tags": []
          }
        }
      ]
    },
    {
      "cell_type": "code",
      "metadata": {
        "colab": {
          "base_uri": "https://localhost:8080/",
          "height": 723
        },
        "id": "LseJPPwKgYYS",
        "outputId": "f89a22c2-36ca-4da3-8f18-18e0d962fa8d"
      },
      "source": [
        "#Dropping the correlated features\n",
        "X_train = X_train.drop(columns=['HappinessScore', 'HouseholdExpenseOnPresents', 'NrCousins', 'HouseholdExpenseOnSocialGames', 'StepsPerYear', 'HouseholdExpenseParkingTicketsPerYear'])\n",
        "X_test = X_test.drop(columns=['HappinessScore', 'HouseholdExpenseOnPresents', 'NrCousins', 'HouseholdExpenseOnSocialGames', 'StepsPerYear', 'HouseholdExpenseParkingTicketsPerYear'])\n",
        "\n",
        "printCorrelationMatrix('Correlation Matrix - after removing correlated features')"
      ],
      "execution_count": 579,
      "outputs": [
        {
          "output_type": "display_data",
          "data": {
            "image/png": "[encoded data removed]",
            "text/plain": [
              "<Figure size 864x864 with 2 Axes>"
            ]
          },
          "metadata": {
            "tags": []
          }
        }
      ]
    },
    {
      "cell_type": "code",
      "metadata": {
        "id": "4vivtW81cQ91"
      },
      "source": [
        "# Normalization:\n",
        "def norm(dataset):\n",
        "  for col in dataset.columns:\n",
        "    if col != 'Sex' and col != 'ID':\n",
        "      dataset[col] = stats.zscore(dataset[col])\n",
        "\n",
        "norm(X_train)\n",
        "norm(X_test)\n",
        "\n",
        "train_set_sex_column_backup = train_set['Sex']\n",
        "train_set = pd.concat([X_train, Y_train], axis=1) # Update the train_set\n",
        "train_set['Sex'] = train_set_sex_column_backup"
      ],
      "execution_count": 580,
      "outputs": []
    },
    {
      "cell_type": "markdown",
      "metadata": {
        "id": "JJdes_GbylCc"
      },
      "source": [
        "### (Q4) + (Q5) + (Q6) - in the report PDF"
      ]
    },
    {
      "cell_type": "markdown",
      "metadata": {
        "id": "HnzSevD2okEB"
      },
      "source": [
        "# Section 2: Evaluation"
      ]
    },
    {
      "cell_type": "markdown",
      "metadata": {
        "id": "xQQ6vBdYwHZ3"
      },
      "source": [
        "### (Q7)"
      ]
    },
    {
      "cell_type": "code",
      "metadata": {
        "colab": {
          "base_uri": "https://localhost:8080/"
        },
        "id": "9TsnBiDqo-PV",
        "outputId": "fe39fe13-9449-490d-adb4-399c713d63ea"
      },
      "source": [
        "from sklearn.svm import LinearSVC\n",
        "from sklearn.model_selection import cross_validate\n",
        "from sklearn.metrics import mean_squared_error, make_scorer\n",
        "from sklearn.model_selection import GridSearchCV\n",
        "from sklearn.dummy import DummyRegressor\n",
        "\n",
        "def CV_evaluation(h, X_train, Y_train, n_splits=5):\n",
        "  scores = cross_validate(h, X_train, Y_train, cv=n_splits, scoring=make_scorer(mean_squared_error), return_train_score=True)\n",
        "  train_mse = scores['train_score'].mean() # a DummyRegressor that always predicts the average VariantScore of the train set\n",
        "  valid_mse = scores['test_score'].mean()\n",
        "  return (train_mse, valid_mse)\n",
        "\n",
        "\n",
        "dummy_regr = DummyRegressor(strategy=\"mean\")\n",
        "train_mse, valid_mse = CV_evaluation(dummy_regr, X_train, Y_train)\n",
        "\n",
        "table_printing_headers = ['Model', 'Section', 'Train MSE', 'Valid MSE', 'Best hyperparameter']\n",
        "table_printing_values = [['Dummy', '2', train_mse, valid_mse, '-']]\n",
        "\n",
        "print(tabulate(table_printing_values, headers=table_printing_headers))"
      ],
      "execution_count": 581,
      "outputs": [
        {
          "output_type": "stream",
          "text": [
            "Model      Section    Train MSE    Valid MSE  Best hyperparameter\n",
            "-------  ---------  -----------  -----------  ---------------------\n",
            "Dummy            2    0.0125773    0.0125841  -\n"
          ],
          "name": "stdout"
        }
      ]
    },
    {
      "cell_type": "code",
      "metadata": {
        "id": "pnYRxbMJv9Lq"
      },
      "source": [
        "# Retrain the dummy regressor on the entire train set and save it for future use (Section 6)\n",
        "dummy_regressor_fitted_entire_train_set = dummy_regr.fit(X_train, Y_train)"
      ],
      "execution_count": 582,
      "outputs": []
    },
    {
      "cell_type": "markdown",
      "metadata": {
        "id": "00IcIEsNwN1W"
      },
      "source": [
        "# Section 3: Basic linear regression"
      ]
    },
    {
      "cell_type": "markdown",
      "metadata": {
        "id": "VJbC2cEPogC3"
      },
      "source": [
        ""
      ]
    },
    {
      "cell_type": "markdown",
      "metadata": {
        "id": "FmbtDAOrwNIE"
      },
      "source": [
        "### (Q8)"
      ]
    },
    {
      "cell_type": "code",
      "metadata": {
        "id": "Yn0jJTgCwrf2"
      },
      "source": [
        "from sklearn.linear_model import Ridge\n",
        "\n",
        "ridge_num_of_values = 200\n",
        "valid_mse_dummy = [valid_mse] * ridge_num_of_values\n",
        "regularization_strength_values = np.logspace(-5, 5, num=ridge_num_of_values)\n",
        "\n",
        "def ridgeStrengthSweep(X_train, Y_train, regularization_strength_values):\n",
        "  train_mse_ridge, valid_mse_ridge = [], []\n",
        "\n",
        "  for x in regularization_strength_values:\n",
        "    ridge_regr = Ridge(alpha=x, fit_intercept=True)\n",
        "    train_mse, valid_mse = CV_evaluation(ridge_regr, X_train, Y_train)\n",
        "    train_mse_ridge.append(train_mse)\n",
        "    valid_mse_ridge.append(valid_mse)\n",
        "  return train_mse_ridge, valid_mse_ridge"
      ],
      "execution_count": 583,
      "outputs": []
    },
    {
      "cell_type": "code",
      "metadata": {
        "id": "nR9kiEbByI-N"
      },
      "source": [
        "train_mse_ridge, valid_mse_ridge = ridgeStrengthSweep(X_train, Y_train, regularization_strength_values)"
      ],
      "execution_count": 584,
      "outputs": []
    },
    {
      "cell_type": "code",
      "metadata": {
        "id": "RTZXJsXEzjoN"
      },
      "source": [
        "from matplotlib.pyplot import semilogx\n",
        "\n",
        "def plotSemilogx(x_values, y_values):\n",
        "  sns.set_theme()\n",
        "  f, axs = plt.subplots(1, 1, figsize=(10, 8))\n",
        "  for y in y_values:\n",
        "    f = semilogx(x_values, y)\n",
        "  f = axs.legend(['Train MSE Ridge', 'Validation MSE Ridge', 'Validation MSE Dummy'])\n",
        "  f = axs.set_xlabel('Regularization strength')\n",
        "  f = axs.set_ylabel('Error')\n",
        "  f = axs.set_title('MSE of VariantScore', y=1.05)"
      ],
      "execution_count": 585,
      "outputs": []
    },
    {
      "cell_type": "code",
      "metadata": {
        "colab": {
          "base_uri": "https://localhost:8080/",
          "height": 547
        },
        "id": "2_NQFd-8x0jX",
        "outputId": "a0279024-d18e-4681-e579-9d0f369f0631"
      },
      "source": [
        "plotSemilogx(regularization_strength_values, [train_mse_ridge, valid_mse_ridge, valid_mse_dummy])"
      ],
      "execution_count": 586,
      "outputs": [
        {
          "output_type": "display_data",
          "data": {
            "image/png": "[encoded data removed]",
            "text/plain": [
              "<Figure size 720x576 with 1 Axes>"
            ]
          },
          "metadata": {
            "tags": []
          }
        }
      ]
    },
    {
      "cell_type": "markdown",
      "metadata": {
        "id": "YbFr-uzuy6lT"
      },
      "source": [
        "### (Q9)"
      ]
    },
    {
      "cell_type": "code",
      "metadata": {
        "colab": {
          "base_uri": "https://localhost:8080/"
        },
        "id": "xpFaZnWKVbxr",
        "outputId": "d2cfdedf-3d73-4693-dd33-bcbdfd7ac141"
      },
      "source": [
        "valid_mse_ridge_best_performing_alpha_hyperparameter = regularization_strength_values[valid_mse_ridge.index(min(valid_mse_ridge))]\n",
        "\n",
        "ridge_regr = Ridge(alpha=valid_mse_ridge_best_performing_alpha_hyperparameter, fit_intercept=True)\n",
        "train_mse, valid_mse = CV_evaluation(ridge_regr, X_train, Y_train)\n",
        "\n",
        "table_printing_values.append(['Basic linear', '3', train_mse, valid_mse, valid_mse_ridge_best_performing_alpha_hyperparameter])\n",
        "print(tabulate(table_printing_values, headers=table_printing_headers))"
      ],
      "execution_count": 587,
      "outputs": [
        {
          "output_type": "stream",
          "text": [
            "Model           Section    Train MSE    Valid MSE  Best hyperparameter\n",
            "------------  ---------  -----------  -----------  ---------------------\n",
            "Dummy                 2   0.0125773    0.0125841   -\n",
            "Basic linear          3   0.00763784   0.00785328  19.116440753857038\n"
          ],
          "name": "stdout"
        }
      ]
    },
    {
      "cell_type": "code",
      "metadata": {
        "id": "KTs-UmnGG-Kj"
      },
      "source": [
        "# Save the model for Section 8\n",
        "ridge_regr_3 = ridge_regr\n",
        "\n",
        "# Retrain the Ridge (basic linear) regressor on the entire train set and save it for future use (Section 6)\n",
        "ridge_regressor_fitted_entire_train_set = ridge_regr.fit(X_train, Y_train)"
      ],
      "execution_count": 588,
      "outputs": []
    },
    {
      "cell_type": "markdown",
      "metadata": {
        "id": "bYcCOHrh49fn"
      },
      "source": [
        "### (Q10)"
      ]
    },
    {
      "cell_type": "code",
      "metadata": {
        "colab": {
          "base_uri": "https://localhost:8080/"
        },
        "id": "ekJ7MjTNIl4n",
        "outputId": "96689e0c-ce13-4f00-b7db-c5748eefe0eb"
      },
      "source": [
        "feature_coefficients = abs(ridge_regressor_fitted_entire_train_set.coef_[0])\n",
        "feature_coefficients = pd.DataFrame({'feature' : X_train.columns.to_list(), 'coefficients' : feature_coefficients})\n",
        "\n",
        "feature_coefficients.sort_values(by='coefficients', ascending=False, inplace=True)\n",
        "\n",
        "print(feature_coefficients.head(5))"
      ],
      "execution_count": 589,
      "outputs": [
        {
          "output_type": "stream",
          "text": [
            "      feature  coefficients\n",
            "22        Sex      0.082362\n",
            "14     PCR_72      0.037779\n",
            "3   BloodType      0.031607\n",
            "13      PCR_7      0.015825\n",
            "9      PCR_19      0.015396\n"
          ],
          "name": "stdout"
        }
      ]
    },
    {
      "cell_type": "markdown",
      "metadata": {
        "id": "MFXJ9cWmEX5I"
      },
      "source": [
        "# Section 4: Hierarchical linear regression"
      ]
    },
    {
      "cell_type": "markdown",
      "metadata": {
        "id": "esaTaBFUFJcj"
      },
      "source": [
        "### (Q11)"
      ]
    },
    {
      "cell_type": "code",
      "metadata": {
        "colab": {
          "base_uri": "https://localhost:8080/",
          "height": 540
        },
        "id": "rhMwoxiwFNwk",
        "outputId": "7561f3e6-dd7f-4665-c2fd-41a535680402"
      },
      "source": [
        "sns.set_theme()\n",
        "f, axs = plt.subplots(1, 1, figsize=(10, 8))\n",
        "f = sns.kdeplot(data=train_set, x=\"VariantScore\", y=\"AgeGroup\", hue='Sex', fill=True, palette=\"cubehelix\", alpha=.5)\n",
        "_ = f.set_title('Bivariate distribution of VariantScore and AgeGroup, conditioned on the Sex of patient', y=1.05)"
      ],
      "execution_count": 590,
      "outputs": [
        {
          "output_type": "display_data",
          "data": {
            "image/png": "[encoded data removed]",
            "text/plain": [
              "<Figure size 720x576 with 1 Axes>"
            ]
          },
          "metadata": {
            "tags": []
          }
        }
      ]
    },
    {
      "cell_type": "markdown",
      "metadata": {
        "id": "ikCMLfnTLZ2j"
      },
      "source": [
        "Splitting the training set into two subsets - female patients and male patients"
      ]
    },
    {
      "cell_type": "code",
      "metadata": {
        "id": "hfAscjilLYHb"
      },
      "source": [
        "train_set_male = train_set[train_set['Sex'] == 'M'].copy()\n",
        "train_set_female = train_set[train_set['Sex'] == 'F'].copy()\n",
        "\n",
        "train_set_male.drop(columns=['Sex'], inplace=True)\n",
        "train_set_female.drop(columns=['Sex'], inplace=True)\n",
        "\n",
        "X_train_male, Y_train_male = train_set_male.iloc[:, 0 : train_set_male.columns.get_loc('VariantScore')], train_set_male.iloc[:, train_set_male.columns.get_loc('VariantScore'):]\n",
        "X_train_female, Y_train_female = train_set_female.iloc[:, 0 : train_set_female.columns.get_loc('VariantScore')], train_set_female.iloc[:, train_set_female.columns.get_loc('VariantScore'):]"
      ],
      "execution_count": 591,
      "outputs": []
    },
    {
      "cell_type": "markdown",
      "metadata": {
        "id": "jA2W6GAX_qs5"
      },
      "source": [
        "### (Q12)"
      ]
    },
    {
      "cell_type": "code",
      "metadata": {
        "colab": {
          "base_uri": "https://localhost:8080/",
          "height": 547
        },
        "id": "8pZMFUNv57bA",
        "outputId": "284c5c10-d1f5-4236-be6e-ba86ec1c11c7"
      },
      "source": [
        "# regularization strength of a Ridge regressor - Male\n",
        "train_mse_male, valid_mse_male = ridgeStrengthSweep(X_train_male, Y_train_male, regularization_strength_values)\n",
        "plotSemilogx(regularization_strength_values, [train_mse_male, valid_mse_male, valid_mse_dummy])"
      ],
      "execution_count": 592,
      "outputs": [
        {
          "output_type": "display_data",
          "data": {
            "image/png": "[encoded data removed]",
            "text/plain": [
              "<Figure size 720x576 with 1 Axes>"
            ]
          },
          "metadata": {
            "tags": []
          }
        }
      ]
    },
    {
      "cell_type": "code",
      "metadata": {
        "colab": {
          "base_uri": "https://localhost:8080/",
          "height": 547
        },
        "id": "-zLtrV0X59c8",
        "outputId": "3a0f867f-9acc-466e-ad57-4739a61cd7d1"
      },
      "source": [
        "# regularization strength of a Ridge regressor - Female\n",
        "train_mse_female, valid_mse_female = ridgeStrengthSweep(X_train_female, Y_train_female, regularization_strength_values)\n",
        "plotSemilogx(regularization_strength_values, [train_mse_female, valid_mse_female, valid_mse_dummy])"
      ],
      "execution_count": 593,
      "outputs": [
        {
          "output_type": "display_data",
          "data": {
            "image/png": "[encoded data removed]",
            "text/plain": [
              "<Figure size 720x576 with 1 Axes>"
            ]
          },
          "metadata": {
            "tags": []
          }
        }
      ]
    },
    {
      "cell_type": "code",
      "metadata": {
        "id": "YKV_193k7HOc"
      },
      "source": [
        "# Running the Ridge regressor with the best hyperparameter for Male\n",
        "valid_mse_male_ridge_best_performing_alpha_hyperparameter = regularization_strength_values[valid_mse_male.index(min(valid_mse_male))]\n",
        "ridge_regr = Ridge(alpha=valid_mse_male_ridge_best_performing_alpha_hyperparameter, fit_intercept=True)\n",
        "train_mse_male, valid_mse_male = CV_evaluation(ridge_regr, X_train_male, Y_train_male)\n",
        "\n",
        "# Running the Ridge regressor with the best hyperparameter for Female\n",
        "valid_mse_female_ridge_best_performing_alpha_hyperparameter = regularization_strength_values[valid_mse_female.index(min(valid_mse_female))]\n",
        "ridge_regr = Ridge(alpha=valid_mse_female_ridge_best_performing_alpha_hyperparameter, fit_intercept=True)\n",
        "train_mse_female, valid_mse_female = CV_evaluation(ridge_regr, X_train_female, Y_train_female)"
      ],
      "execution_count": 594,
      "outputs": []
    },
    {
      "cell_type": "code",
      "metadata": {
        "colab": {
          "base_uri": "https://localhost:8080/"
        },
        "id": "KkBXyG-J8IxM",
        "outputId": "36552a98-5243-4c5d-dea0-f3ef350e3932"
      },
      "source": [
        "print(tabulate([['Male', valid_mse_male_ridge_best_performing_alpha_hyperparameter, valid_mse_male],\n",
        "                ['Female', valid_mse_female_ridge_best_performing_alpha_hyperparameter, valid_mse_female]], headers=['Subset', 'Optimal Strength', 'Optimal Validation MSE']))"
      ],
      "execution_count": 595,
      "outputs": [
        {
          "output_type": "stream",
          "text": [
            "Subset      Optimal Strength    Optimal Validation MSE\n",
            "--------  ------------------  ------------------------\n",
            "Male                  42.97                 0.00538517\n",
            "Female               153.437                0.00285692\n"
          ],
          "name": "stdout"
        }
      ]
    },
    {
      "cell_type": "code",
      "metadata": {
        "id": "S_IC1_MOADa5"
      },
      "source": [
        "from sklearn.base import BaseEstimator, RegressorMixin\n",
        "\n",
        "# In 'Sex' column, 0 is for Male and 1 is for Female\n",
        "class MultiRegressor(BaseEstimator, RegressorMixin):\n",
        "  def __init__(self, h_male, h_female):\n",
        "    self.h_male = h_male\n",
        "    self.h_female = h_female\n",
        "\n",
        "  def fit(self, X, y):\n",
        "    X_m = X[X['Sex'] == 0]\n",
        "    X_m = X_m.drop('Sex', axis='columns')\n",
        "\n",
        "    X_f = X[X['Sex'] == 1]\n",
        "    X_f = X_f.drop('Sex', axis='columns')\n",
        "\n",
        "    self.h_male.fit(X_m, y[X['Sex'] == 0])\n",
        "    self.h_female.fit(X_f, y[X['Sex'] == 1])\n",
        "    return self\n",
        "\n",
        "  def predict(self, X):\n",
        "    # X should be a pandas dataframe\n",
        "    all_predictions = []\n",
        "    for index, x in X.iterrows():\n",
        "      x_without_sex = x.drop('Sex')\n",
        "      y_pred = self.h_male.predict([x_without_sex]) if x['Sex'] == 0 else self.h_female.predict([x_without_sex])\n",
        "      all_predictions.append(y_pred[0][0])\n",
        "\n",
        "    return all_predictions"
      ],
      "execution_count": 596,
      "outputs": []
    },
    {
      "cell_type": "markdown",
      "metadata": {
        "id": "uA2TwXyN_tvo"
      },
      "source": [
        "### (Q13)"
      ]
    },
    {
      "cell_type": "code",
      "metadata": {
        "colab": {
          "base_uri": "https://localhost:8080/"
        },
        "id": "7EjYyE3gAv9M",
        "outputId": "d3146028-ff63-41bd-f1c7-ddbb5bb7a21a"
      },
      "source": [
        "h_combined = MultiRegressor(Ridge(alpha=valid_mse_male_ridge_best_performing_alpha_hyperparameter, fit_intercept=True), Ridge(alpha=valid_mse_female_ridge_best_performing_alpha_hyperparameter, fit_intercept=True))\n",
        "train_mse_combined, valid_mse_combined = CV_evaluation(h_combined, X_train, Y_train)\n",
        "\n",
        "string_of_best_hyperparameters = 'Male: ' + str(valid_mse_male_ridge_best_performing_alpha_hyperparameter) + ', Female: ' + str(valid_mse_female_ridge_best_performing_alpha_hyperparameter)\n",
        "table_printing_values.append(['Multilevel linear', '4', train_mse_combined, valid_mse_combined, string_of_best_hyperparameters])\n",
        "print(tabulate(table_printing_values, headers=table_printing_headers))"
      ],
      "execution_count": 597,
      "outputs": [
        {
          "output_type": "stream",
          "text": [
            "Model                Section    Train MSE    Valid MSE  Best hyperparameter\n",
            "-----------------  ---------  -----------  -----------  ---------------------------------------------------\n",
            "Dummy                      2   0.0125773    0.0125841   -\n",
            "Basic linear               3   0.00763784   0.00785328  19.116440753857038\n",
            "Multilevel linear          4   0.00385955   0.00411674  Male: 42.97004704320844, Female: 153.43684089300132\n"
          ],
          "name": "stdout"
        }
      ]
    },
    {
      "cell_type": "markdown",
      "metadata": {
        "id": "JiL97oEZ2r_Y"
      },
      "source": [
        "### (Q14) - in the report PDF"
      ]
    },
    {
      "cell_type": "code",
      "metadata": {
        "id": "tm6-SZ3Ca0k5"
      },
      "source": [
        "# Save the model for Section 8\n",
        "h_combined_4 = h_combined\n",
        "\n",
        "# Retrain the Multilevel regressor on the entire train set and save it for future use (Section 6)\n",
        "multilevel_regressor_fitted_entire_train_set = h_combined.fit(X_train, Y_train)"
      ],
      "execution_count": 598,
      "outputs": []
    },
    {
      "cell_type": "markdown",
      "metadata": {
        "id": "lFv8M_b921PG"
      },
      "source": [
        "# Section 5: Polynomial fitting"
      ]
    },
    {
      "cell_type": "code",
      "metadata": {
        "colab": {
          "base_uri": "https://localhost:8080/",
          "height": 261
        },
        "id": "-xbLiXMM-Lm2",
        "outputId": "0237cc3e-c0ac-4e7b-a343-9d384e657f4e"
      },
      "source": [
        "X_train_quadratic = X_train.copy()\n",
        "X_test_quadratic = X_test.copy()\n",
        "\n",
        "col_names = X_train_quadratic.columns\n",
        "\n",
        "for col in col_names:\n",
        "  if col != 'Sex' and col != 'ID':\n",
        "    corresponding_quadratic_col_name = col + '_quad'\n",
        "    X_train_quadratic[corresponding_quadratic_col_name] = [(x * x) for x in X_train_quadratic[col]]\n",
        "    X_test_quadratic[corresponding_quadratic_col_name] = [(x * x) for x in X_test_quadratic[col]]\n",
        "\n",
        "print('Original X_train:', end='\\n\\n')\n",
        "X_train.head()"
      ],
      "execution_count": 599,
      "outputs": [
        {
          "output_type": "stream",
          "text": [
            "Original X_train:\n",
            "\n"
          ],
          "name": "stdout"
        },
        {
          "output_type": "execute_result",
          "data": {
            "text/html": [
              "<div>\n",
              "<style scoped>\n",
              "    .dataframe tbody tr th:only-of-type {\n",
              "        vertical-align: middle;\n",
              "    }\n",
              "\n",
              "    .dataframe tbody tr th {\n",
              "        vertical-align: top;\n",
              "    }\n",
              "\n",
              "    .dataframe thead th {\n",
              "        text-align: right;\n",
              "    }\n",
              "</style>\n",
              "<table border=\"1\" class=\"dataframe\">\n",
              "  <thead>\n",
              "    <tr style=\"text-align: right;\">\n",
              "      <th></th>\n",
              "      <th>ID</th>\n",
              "      <th>AgeGroup</th>\n",
              "      <th>BMI</th>\n",
              "      <th>BloodType</th>\n",
              "      <th>ConversatiosPerDay</th>\n",
              "      <th>DisciplineScore</th>\n",
              "      <th>MedicalCarePerYear</th>\n",
              "      <th>PCR_10</th>\n",
              "      <th>PCR_17</th>\n",
              "      <th>PCR_19</th>\n",
              "      <th>PCR_32</th>\n",
              "      <th>PCR_45</th>\n",
              "      <th>PCR_46</th>\n",
              "      <th>PCR_7</th>\n",
              "      <th>PCR_72</th>\n",
              "      <th>PCR_76</th>\n",
              "      <th>PCR_8</th>\n",
              "      <th>PCR_83</th>\n",
              "      <th>PCR_89</th>\n",
              "      <th>PCR_9</th>\n",
              "      <th>PCR_93</th>\n",
              "      <th>PCR_95</th>\n",
              "      <th>Sex</th>\n",
              "      <th>SocialActivitiesPerDay</th>\n",
              "      <th>SocialMediaPerDay</th>\n",
              "      <th>SportsPerDay</th>\n",
              "      <th>StudingPerDay</th>\n",
              "    </tr>\n",
              "  </thead>\n",
              "  <tbody>\n",
              "    <tr>\n",
              "      <th>1173</th>\n",
              "      <td>158</td>\n",
              "      <td>0.175139</td>\n",
              "      <td>-0.285733</td>\n",
              "      <td>0.995635</td>\n",
              "      <td>-0.749639</td>\n",
              "      <td>-0.167884</td>\n",
              "      <td>-0.261039</td>\n",
              "      <td>-0.073284</td>\n",
              "      <td>-0.048650</td>\n",
              "      <td>0.562229</td>\n",
              "      <td>0.016817</td>\n",
              "      <td>0.039025</td>\n",
              "      <td>-0.034321</td>\n",
              "      <td>-1.499961</td>\n",
              "      <td>0.337446</td>\n",
              "      <td>0.026382</td>\n",
              "      <td>0.043984</td>\n",
              "      <td>-0.013908</td>\n",
              "      <td>-0.274203</td>\n",
              "      <td>-0.062845</td>\n",
              "      <td>-0.013466</td>\n",
              "      <td>0.224387</td>\n",
              "      <td>0</td>\n",
              "      <td>-0.160890</td>\n",
              "      <td>-0.233027</td>\n",
              "      <td>-0.664543</td>\n",
              "      <td>1.181022</td>\n",
              "    </tr>\n",
              "    <tr>\n",
              "      <th>2611</th>\n",
              "      <td>10288</td>\n",
              "      <td>0.828339</td>\n",
              "      <td>-0.204688</td>\n",
              "      <td>-1.004385</td>\n",
              "      <td>0.933564</td>\n",
              "      <td>0.786002</td>\n",
              "      <td>3.566339</td>\n",
              "      <td>-0.070544</td>\n",
              "      <td>-0.028977</td>\n",
              "      <td>-1.201693</td>\n",
              "      <td>0.017293</td>\n",
              "      <td>0.041359</td>\n",
              "      <td>-0.034654</td>\n",
              "      <td>-0.383686</td>\n",
              "      <td>0.181145</td>\n",
              "      <td>0.031503</td>\n",
              "      <td>0.053339</td>\n",
              "      <td>-0.010871</td>\n",
              "      <td>0.606906</td>\n",
              "      <td>-0.061167</td>\n",
              "      <td>-0.007706</td>\n",
              "      <td>-0.118236</td>\n",
              "      <td>1</td>\n",
              "      <td>-0.222302</td>\n",
              "      <td>-0.148672</td>\n",
              "      <td>-1.446479</td>\n",
              "      <td>0.979449</td>\n",
              "    </tr>\n",
              "    <tr>\n",
              "      <th>806</th>\n",
              "      <td>8353</td>\n",
              "      <td>-1.131260</td>\n",
              "      <td>-0.132125</td>\n",
              "      <td>-1.004385</td>\n",
              "      <td>-1.871775</td>\n",
              "      <td>-0.167884</td>\n",
              "      <td>0.149037</td>\n",
              "      <td>-0.076298</td>\n",
              "      <td>-0.052781</td>\n",
              "      <td>1.174036</td>\n",
              "      <td>0.029868</td>\n",
              "      <td>0.012270</td>\n",
              "      <td>-0.053717</td>\n",
              "      <td>-1.026028</td>\n",
              "      <td>-0.991680</td>\n",
              "      <td>-0.007313</td>\n",
              "      <td>0.043791</td>\n",
              "      <td>-0.048546</td>\n",
              "      <td>-0.901083</td>\n",
              "      <td>-0.074802</td>\n",
              "      <td>-0.037281</td>\n",
              "      <td>-0.000259</td>\n",
              "      <td>0</td>\n",
              "      <td>-0.058900</td>\n",
              "      <td>-0.093832</td>\n",
              "      <td>0.574302</td>\n",
              "      <td>0.489913</td>\n",
              "    </tr>\n",
              "    <tr>\n",
              "      <th>1533</th>\n",
              "      <td>5958</td>\n",
              "      <td>0.828339</td>\n",
              "      <td>-0.328140</td>\n",
              "      <td>-1.004385</td>\n",
              "      <td>0.372496</td>\n",
              "      <td>-0.167884</td>\n",
              "      <td>1.105882</td>\n",
              "      <td>-0.057652</td>\n",
              "      <td>-0.049103</td>\n",
              "      <td>0.228288</td>\n",
              "      <td>0.026963</td>\n",
              "      <td>0.020865</td>\n",
              "      <td>-0.049101</td>\n",
              "      <td>-0.536791</td>\n",
              "      <td>3.086139</td>\n",
              "      <td>0.005252</td>\n",
              "      <td>0.030224</td>\n",
              "      <td>-0.035336</td>\n",
              "      <td>-0.244762</td>\n",
              "      <td>-0.029621</td>\n",
              "      <td>-0.026692</td>\n",
              "      <td>1.852619</td>\n",
              "      <td>1</td>\n",
              "      <td>-0.026766</td>\n",
              "      <td>-0.218417</td>\n",
              "      <td>0.970981</td>\n",
              "      <td>-1.093878</td>\n",
              "    </tr>\n",
              "    <tr>\n",
              "      <th>1000</th>\n",
              "      <td>9753</td>\n",
              "      <td>0.175139</td>\n",
              "      <td>-0.143433</td>\n",
              "      <td>0.995635</td>\n",
              "      <td>0.091963</td>\n",
              "      <td>0.022893</td>\n",
              "      <td>0.559113</td>\n",
              "      <td>-0.072776</td>\n",
              "      <td>-0.029253</td>\n",
              "      <td>-1.367649</td>\n",
              "      <td>0.026017</td>\n",
              "      <td>0.022497</td>\n",
              "      <td>-0.047729</td>\n",
              "      <td>0.809225</td>\n",
              "      <td>-1.567539</td>\n",
              "      <td>0.007104</td>\n",
              "      <td>0.062852</td>\n",
              "      <td>-0.033416</td>\n",
              "      <td>-0.287823</td>\n",
              "      <td>-0.073450</td>\n",
              "      <td>-0.025583</td>\n",
              "      <td>-0.330592</td>\n",
              "      <td>0</td>\n",
              "      <td>-0.064781</td>\n",
              "      <td>-0.085069</td>\n",
              "      <td>0.500574</td>\n",
              "      <td>0.057970</td>\n",
              "    </tr>\n",
              "  </tbody>\n",
              "</table>\n",
              "</div>"
            ],
            "text/plain": [
              "         ID  AgeGroup       BMI  ...  SocialMediaPerDay  SportsPerDay  StudingPerDay\n",
              "1173    158  0.175139 -0.285733  ...          -0.233027     -0.664543       1.181022\n",
              "2611  10288  0.828339 -0.204688  ...          -0.148672     -1.446479       0.979449\n",
              "806    8353 -1.131260 -0.132125  ...          -0.093832      0.574302       0.489913\n",
              "1533   5958  0.828339 -0.328140  ...          -0.218417      0.970981      -1.093878\n",
              "1000   9753  0.175139 -0.143433  ...          -0.085069      0.500574       0.057970\n",
              "\n",
              "[5 rows x 27 columns]"
            ]
          },
          "metadata": {
            "tags": []
          },
          "execution_count": 599
        }
      ]
    },
    {
      "cell_type": "code",
      "metadata": {
        "colab": {
          "base_uri": "https://localhost:8080/",
          "height": 261
        },
        "id": "FYVfZ5g_CX29",
        "outputId": "395dc00b-14c4-4182-a20c-5daebb7cb51e"
      },
      "source": [
        "print('X_train with the quadratic features:', end='\\n\\n')\n",
        "X_train_quadratic.head()"
      ],
      "execution_count": 600,
      "outputs": [
        {
          "output_type": "stream",
          "text": [
            "X_train with the quadratic features:\n",
            "\n"
          ],
          "name": "stdout"
        },
        {
          "output_type": "execute_result",
          "data": {
            "text/html": [
              "<div>\n",
              "<style scoped>\n",
              "    .dataframe tbody tr th:only-of-type {\n",
              "        vertical-align: middle;\n",
              "    }\n",
              "\n",
              "    .dataframe tbody tr th {\n",
              "        vertical-align: top;\n",
              "    }\n",
              "\n",
              "    .dataframe thead th {\n",
              "        text-align: right;\n",
              "    }\n",
              "</style>\n",
              "<table border=\"1\" class=\"dataframe\">\n",
              "  <thead>\n",
              "    <tr style=\"text-align: right;\">\n",
              "      <th></th>\n",
              "      <th>ID</th>\n",
              "      <th>AgeGroup</th>\n",
              "      <th>BMI</th>\n",
              "      <th>BloodType</th>\n",
              "      <th>ConversatiosPerDay</th>\n",
              "      <th>DisciplineScore</th>\n",
              "      <th>MedicalCarePerYear</th>\n",
              "      <th>PCR_10</th>\n",
              "      <th>PCR_17</th>\n",
              "      <th>PCR_19</th>\n",
              "      <th>PCR_32</th>\n",
              "      <th>PCR_45</th>\n",
              "      <th>PCR_46</th>\n",
              "      <th>PCR_7</th>\n",
              "      <th>PCR_72</th>\n",
              "      <th>PCR_76</th>\n",
              "      <th>PCR_8</th>\n",
              "      <th>PCR_83</th>\n",
              "      <th>PCR_89</th>\n",
              "      <th>PCR_9</th>\n",
              "      <th>PCR_93</th>\n",
              "      <th>PCR_95</th>\n",
              "      <th>Sex</th>\n",
              "      <th>SocialActivitiesPerDay</th>\n",
              "      <th>SocialMediaPerDay</th>\n",
              "      <th>SportsPerDay</th>\n",
              "      <th>StudingPerDay</th>\n",
              "      <th>AgeGroup_quad</th>\n",
              "      <th>BMI_quad</th>\n",
              "      <th>BloodType_quad</th>\n",
              "      <th>ConversatiosPerDay_quad</th>\n",
              "      <th>DisciplineScore_quad</th>\n",
              "      <th>MedicalCarePerYear_quad</th>\n",
              "      <th>PCR_10_quad</th>\n",
              "      <th>PCR_17_quad</th>\n",
              "      <th>PCR_19_quad</th>\n",
              "      <th>PCR_32_quad</th>\n",
              "      <th>PCR_45_quad</th>\n",
              "      <th>PCR_46_quad</th>\n",
              "      <th>PCR_7_quad</th>\n",
              "      <th>PCR_72_quad</th>\n",
              "      <th>PCR_76_quad</th>\n",
              "      <th>PCR_8_quad</th>\n",
              "      <th>PCR_83_quad</th>\n",
              "      <th>PCR_89_quad</th>\n",
              "      <th>PCR_9_quad</th>\n",
              "      <th>PCR_93_quad</th>\n",
              "      <th>PCR_95_quad</th>\n",
              "      <th>SocialActivitiesPerDay_quad</th>\n",
              "      <th>SocialMediaPerDay_quad</th>\n",
              "      <th>SportsPerDay_quad</th>\n",
              "      <th>StudingPerDay_quad</th>\n",
              "    </tr>\n",
              "  </thead>\n",
              "  <tbody>\n",
              "    <tr>\n",
              "      <th>1173</th>\n",
              "      <td>158</td>\n",
              "      <td>0.175139</td>\n",
              "      <td>-0.285733</td>\n",
              "      <td>0.995635</td>\n",
              "      <td>-0.749639</td>\n",
              "      <td>-0.167884</td>\n",
              "      <td>-0.261039</td>\n",
              "      <td>-0.073284</td>\n",
              "      <td>-0.048650</td>\n",
              "      <td>0.562229</td>\n",
              "      <td>0.016817</td>\n",
              "      <td>0.039025</td>\n",
              "      <td>-0.034321</td>\n",
              "      <td>-1.499961</td>\n",
              "      <td>0.337446</td>\n",
              "      <td>0.026382</td>\n",
              "      <td>0.043984</td>\n",
              "      <td>-0.013908</td>\n",
              "      <td>-0.274203</td>\n",
              "      <td>-0.062845</td>\n",
              "      <td>-0.013466</td>\n",
              "      <td>0.224387</td>\n",
              "      <td>0</td>\n",
              "      <td>-0.160890</td>\n",
              "      <td>-0.233027</td>\n",
              "      <td>-0.664543</td>\n",
              "      <td>1.181022</td>\n",
              "      <td>0.030674</td>\n",
              "      <td>0.081643</td>\n",
              "      <td>0.991288</td>\n",
              "      <td>0.561959</td>\n",
              "      <td>0.028185</td>\n",
              "      <td>0.068141</td>\n",
              "      <td>0.005371</td>\n",
              "      <td>0.002367</td>\n",
              "      <td>0.316102</td>\n",
              "      <td>0.000283</td>\n",
              "      <td>0.001523</td>\n",
              "      <td>0.001178</td>\n",
              "      <td>2.249884</td>\n",
              "      <td>0.113870</td>\n",
              "      <td>0.000696</td>\n",
              "      <td>0.001935</td>\n",
              "      <td>0.000193</td>\n",
              "      <td>0.075187</td>\n",
              "      <td>0.003950</td>\n",
              "      <td>0.000181</td>\n",
              "      <td>5.034970e-02</td>\n",
              "      <td>0.025886</td>\n",
              "      <td>0.054302</td>\n",
              "      <td>0.441617</td>\n",
              "      <td>1.394814</td>\n",
              "    </tr>\n",
              "    <tr>\n",
              "      <th>2611</th>\n",
              "      <td>10288</td>\n",
              "      <td>0.828339</td>\n",
              "      <td>-0.204688</td>\n",
              "      <td>-1.004385</td>\n",
              "      <td>0.933564</td>\n",
              "      <td>0.786002</td>\n",
              "      <td>3.566339</td>\n",
              "      <td>-0.070544</td>\n",
              "      <td>-0.028977</td>\n",
              "      <td>-1.201693</td>\n",
              "      <td>0.017293</td>\n",
              "      <td>0.041359</td>\n",
              "      <td>-0.034654</td>\n",
              "      <td>-0.383686</td>\n",
              "      <td>0.181145</td>\n",
              "      <td>0.031503</td>\n",
              "      <td>0.053339</td>\n",
              "      <td>-0.010871</td>\n",
              "      <td>0.606906</td>\n",
              "      <td>-0.061167</td>\n",
              "      <td>-0.007706</td>\n",
              "      <td>-0.118236</td>\n",
              "      <td>1</td>\n",
              "      <td>-0.222302</td>\n",
              "      <td>-0.148672</td>\n",
              "      <td>-1.446479</td>\n",
              "      <td>0.979449</td>\n",
              "      <td>0.686145</td>\n",
              "      <td>0.041897</td>\n",
              "      <td>1.008788</td>\n",
              "      <td>0.871542</td>\n",
              "      <td>0.617799</td>\n",
              "      <td>12.718774</td>\n",
              "      <td>0.004977</td>\n",
              "      <td>0.000840</td>\n",
              "      <td>1.444066</td>\n",
              "      <td>0.000299</td>\n",
              "      <td>0.001711</td>\n",
              "      <td>0.001201</td>\n",
              "      <td>0.147215</td>\n",
              "      <td>0.032814</td>\n",
              "      <td>0.000992</td>\n",
              "      <td>0.002845</td>\n",
              "      <td>0.000118</td>\n",
              "      <td>0.368335</td>\n",
              "      <td>0.003741</td>\n",
              "      <td>0.000059</td>\n",
              "      <td>1.397965e-02</td>\n",
              "      <td>0.049418</td>\n",
              "      <td>0.022103</td>\n",
              "      <td>2.092301</td>\n",
              "      <td>0.959320</td>\n",
              "    </tr>\n",
              "    <tr>\n",
              "      <th>806</th>\n",
              "      <td>8353</td>\n",
              "      <td>-1.131260</td>\n",
              "      <td>-0.132125</td>\n",
              "      <td>-1.004385</td>\n",
              "      <td>-1.871775</td>\n",
              "      <td>-0.167884</td>\n",
              "      <td>0.149037</td>\n",
              "      <td>-0.076298</td>\n",
              "      <td>-0.052781</td>\n",
              "      <td>1.174036</td>\n",
              "      <td>0.029868</td>\n",
              "      <td>0.012270</td>\n",
              "      <td>-0.053717</td>\n",
              "      <td>-1.026028</td>\n",
              "      <td>-0.991680</td>\n",
              "      <td>-0.007313</td>\n",
              "      <td>0.043791</td>\n",
              "      <td>-0.048546</td>\n",
              "      <td>-0.901083</td>\n",
              "      <td>-0.074802</td>\n",
              "      <td>-0.037281</td>\n",
              "      <td>-0.000259</td>\n",
              "      <td>0</td>\n",
              "      <td>-0.058900</td>\n",
              "      <td>-0.093832</td>\n",
              "      <td>0.574302</td>\n",
              "      <td>0.489913</td>\n",
              "      <td>1.279749</td>\n",
              "      <td>0.017457</td>\n",
              "      <td>1.008788</td>\n",
              "      <td>3.503540</td>\n",
              "      <td>0.028185</td>\n",
              "      <td>0.022212</td>\n",
              "      <td>0.005821</td>\n",
              "      <td>0.002786</td>\n",
              "      <td>1.378360</td>\n",
              "      <td>0.000892</td>\n",
              "      <td>0.000151</td>\n",
              "      <td>0.002885</td>\n",
              "      <td>1.052733</td>\n",
              "      <td>0.983428</td>\n",
              "      <td>0.000053</td>\n",
              "      <td>0.001918</td>\n",
              "      <td>0.002357</td>\n",
              "      <td>0.811951</td>\n",
              "      <td>0.005595</td>\n",
              "      <td>0.001390</td>\n",
              "      <td>6.691046e-08</td>\n",
              "      <td>0.003469</td>\n",
              "      <td>0.008804</td>\n",
              "      <td>0.329823</td>\n",
              "      <td>0.240015</td>\n",
              "    </tr>\n",
              "    <tr>\n",
              "      <th>1533</th>\n",
              "      <td>5958</td>\n",
              "      <td>0.828339</td>\n",
              "      <td>-0.328140</td>\n",
              "      <td>-1.004385</td>\n",
              "      <td>0.372496</td>\n",
              "      <td>-0.167884</td>\n",
              "      <td>1.105882</td>\n",
              "      <td>-0.057652</td>\n",
              "      <td>-0.049103</td>\n",
              "      <td>0.228288</td>\n",
              "      <td>0.026963</td>\n",
              "      <td>0.020865</td>\n",
              "      <td>-0.049101</td>\n",
              "      <td>-0.536791</td>\n",
              "      <td>3.086139</td>\n",
              "      <td>0.005252</td>\n",
              "      <td>0.030224</td>\n",
              "      <td>-0.035336</td>\n",
              "      <td>-0.244762</td>\n",
              "      <td>-0.029621</td>\n",
              "      <td>-0.026692</td>\n",
              "      <td>1.852619</td>\n",
              "      <td>1</td>\n",
              "      <td>-0.026766</td>\n",
              "      <td>-0.218417</td>\n",
              "      <td>0.970981</td>\n",
              "      <td>-1.093878</td>\n",
              "      <td>0.686145</td>\n",
              "      <td>0.107676</td>\n",
              "      <td>1.008788</td>\n",
              "      <td>0.138754</td>\n",
              "      <td>0.028185</td>\n",
              "      <td>1.222974</td>\n",
              "      <td>0.003324</td>\n",
              "      <td>0.002411</td>\n",
              "      <td>0.052115</td>\n",
              "      <td>0.000727</td>\n",
              "      <td>0.000435</td>\n",
              "      <td>0.002411</td>\n",
              "      <td>0.288144</td>\n",
              "      <td>9.524254</td>\n",
              "      <td>0.000028</td>\n",
              "      <td>0.000914</td>\n",
              "      <td>0.001249</td>\n",
              "      <td>0.059908</td>\n",
              "      <td>0.000877</td>\n",
              "      <td>0.000712</td>\n",
              "      <td>3.432196e+00</td>\n",
              "      <td>0.000716</td>\n",
              "      <td>0.047706</td>\n",
              "      <td>0.942805</td>\n",
              "      <td>1.196569</td>\n",
              "    </tr>\n",
              "    <tr>\n",
              "      <th>1000</th>\n",
              "      <td>9753</td>\n",
              "      <td>0.175139</td>\n",
              "      <td>-0.143433</td>\n",
              "      <td>0.995635</td>\n",
              "      <td>0.091963</td>\n",
              "      <td>0.022893</td>\n",
              "      <td>0.559113</td>\n",
              "      <td>-0.072776</td>\n",
              "      <td>-0.029253</td>\n",
              "      <td>-1.367649</td>\n",
              "      <td>0.026017</td>\n",
              "      <td>0.022497</td>\n",
              "      <td>-0.047729</td>\n",
              "      <td>0.809225</td>\n",
              "      <td>-1.567539</td>\n",
              "      <td>0.007104</td>\n",
              "      <td>0.062852</td>\n",
              "      <td>-0.033416</td>\n",
              "      <td>-0.287823</td>\n",
              "      <td>-0.073450</td>\n",
              "      <td>-0.025583</td>\n",
              "      <td>-0.330592</td>\n",
              "      <td>0</td>\n",
              "      <td>-0.064781</td>\n",
              "      <td>-0.085069</td>\n",
              "      <td>0.500574</td>\n",
              "      <td>0.057970</td>\n",
              "      <td>0.030674</td>\n",
              "      <td>0.020573</td>\n",
              "      <td>0.991288</td>\n",
              "      <td>0.008457</td>\n",
              "      <td>0.000524</td>\n",
              "      <td>0.312608</td>\n",
              "      <td>0.005296</td>\n",
              "      <td>0.000856</td>\n",
              "      <td>1.870464</td>\n",
              "      <td>0.000677</td>\n",
              "      <td>0.000506</td>\n",
              "      <td>0.002278</td>\n",
              "      <td>0.654845</td>\n",
              "      <td>2.457177</td>\n",
              "      <td>0.000050</td>\n",
              "      <td>0.003950</td>\n",
              "      <td>0.001117</td>\n",
              "      <td>0.082842</td>\n",
              "      <td>0.005395</td>\n",
              "      <td>0.000654</td>\n",
              "      <td>1.092908e-01</td>\n",
              "      <td>0.004197</td>\n",
              "      <td>0.007237</td>\n",
              "      <td>0.250574</td>\n",
              "      <td>0.003361</td>\n",
              "    </tr>\n",
              "  </tbody>\n",
              "</table>\n",
              "</div>"
            ],
            "text/plain": [
              "         ID  AgeGroup  ...  SportsPerDay_quad  StudingPerDay_quad\n",
              "1173    158  0.175139  ...           0.441617            1.394814\n",
              "2611  10288  0.828339  ...           2.092301            0.959320\n",
              "806    8353 -1.131260  ...           0.329823            0.240015\n",
              "1533   5958  0.828339  ...           0.942805            1.196569\n",
              "1000   9753  0.175139  ...           0.250574            0.003361\n",
              "\n",
              "[5 rows x 52 columns]"
            ]
          },
          "metadata": {
            "tags": []
          },
          "execution_count": 600
        }
      ]
    },
    {
      "cell_type": "markdown",
      "metadata": {
        "id": "YhVJZ4R3EiBv"
      },
      "source": [
        "### (Q15) + (Q16) - in the report PDF"
      ]
    },
    {
      "cell_type": "markdown",
      "metadata": {
        "id": "z4Trba-kEr9D"
      },
      "source": [
        "### (Q17)"
      ]
    },
    {
      "cell_type": "code",
      "metadata": {
        "id": "ZGTaATrDGogk"
      },
      "source": [
        "# In 'Sex' column, 0 is for Male and 1 is for Female\n",
        "X_train_quadratic_male = X_train_quadratic[X_train_quadratic['Sex'] == 0].copy()\n",
        "Y_train_quadratic_male = Y_train_male.copy()\n",
        "\n",
        "X_train_quadratic_female = X_train_quadratic[X_train_quadratic['Sex'] == 1].copy()\n",
        "Y_train_quadratic_female = Y_train_female.copy()\n",
        "\n",
        "X_train_quadratic_male.drop(columns=['Sex'], inplace=True)\n",
        "X_train_quadratic_female.drop(columns=['Sex'], inplace=True)"
      ],
      "execution_count": 601,
      "outputs": []
    },
    {
      "cell_type": "code",
      "metadata": {
        "colab": {
          "base_uri": "https://localhost:8080/",
          "height": 547
        },
        "id": "TMTN3TFaEt4i",
        "outputId": "42966f12-a54d-4dac-e2f3-31130a0d7765"
      },
      "source": [
        "# regularization strength of a Ridge regressor - Male\n",
        "train_quadratic_mse_male, valid_quadratic_mse_male = ridgeStrengthSweep(X_train_quadratic_male, Y_train_quadratic_male, regularization_strength_values)\n",
        "plotSemilogx(regularization_strength_values, [train_quadratic_mse_male, valid_quadratic_mse_male, valid_mse_dummy])"
      ],
      "execution_count": 602,
      "outputs": [
        {
          "output_type": "display_data",
          "data": {
            "image/png": "[encoded data removed]",
            "text/plain": [
              "<Figure size 720x576 with 1 Axes>"
            ]
          },
          "metadata": {
            "tags": []
          }
        }
      ]
    },
    {
      "cell_type": "code",
      "metadata": {
        "colab": {
          "base_uri": "https://localhost:8080/",
          "height": 547
        },
        "id": "JR1mxjYXGunt",
        "outputId": "64263b47-b36a-4682-b99b-a6ee42091030"
      },
      "source": [
        "# regularization strength of a Ridge regressor - Female\n",
        "train_quadratic_mse_female, valid_quadratic_mse_female = ridgeStrengthSweep(X_train_quadratic_female, Y_train_quadratic_female, regularization_strength_values)\n",
        "plotSemilogx(regularization_strength_values, [train_quadratic_mse_female, valid_quadratic_mse_female, valid_mse_dummy])"
      ],
      "execution_count": 603,
      "outputs": [
        {
          "output_type": "display_data",
          "data": {
            "image/png": "[encoded data removed]",
            "text/plain": [
              "<Figure size 720x576 with 1 Axes>"
            ]
          },
          "metadata": {
            "tags": []
          }
        }
      ]
    },
    {
      "cell_type": "code",
      "metadata": {
        "id": "pmGgOr1mMv5V"
      },
      "source": [
        "# Running the Multilevel Polynomial regressor with the best hyperparameter for Male\n",
        "valid_quadratic_mse_male_ridge_best_performing_alpha_hyperparameter = regularization_strength_values[valid_quadratic_mse_male.index(min(valid_quadratic_mse_male))]\n",
        "ridge_regr = Ridge(alpha=valid_quadratic_mse_male_ridge_best_performing_alpha_hyperparameter, fit_intercept=True)\n",
        "train_quadratic_mse_male, valid_quadratic_mse_male = CV_evaluation(ridge_regr, X_train_quadratic_male, Y_train_quadratic_male)\n",
        "\n",
        "# Running the Multilevel Polynomial regressor with the best hyperparameter for Female\n",
        "valid_quadratic_mse_female_ridge_best_performing_alpha_hyperparameter = regularization_strength_values[valid_quadratic_mse_female.index(min(valid_quadratic_mse_female))]\n",
        "ridge_regr = Ridge(alpha=valid_quadratic_mse_female_ridge_best_performing_alpha_hyperparameter, fit_intercept=True)\n",
        "train_quadratic_mse_female, valid_quadratic_mse_female = CV_evaluation(ridge_regr, X_train_quadratic_female, Y_train_quadratic_female)"
      ],
      "execution_count": 604,
      "outputs": []
    },
    {
      "cell_type": "code",
      "metadata": {
        "colab": {
          "base_uri": "https://localhost:8080/"
        },
        "id": "GON05N0_M4OO",
        "outputId": "0693f1aa-477d-4a4f-b670-e7c2e00988e3"
      },
      "source": [
        "print(tabulate([['Male', valid_quadratic_mse_male_ridge_best_performing_alpha_hyperparameter, valid_quadratic_mse_male],\n",
        "                ['Female', valid_quadratic_mse_female_ridge_best_performing_alpha_hyperparameter, valid_quadratic_mse_female]], headers=['Subset', 'Optimal Strength', 'Optimal Validation MSE']))"
      ],
      "execution_count": 605,
      "outputs": [
        {
          "output_type": "stream",
          "text": [
            "Subset      Optimal Strength    Optimal Validation MSE\n",
            "--------  ------------------  ------------------------\n",
            "Male                 48.2411                0.00534881\n",
            "Female               68.2607                0.00228318\n"
          ],
          "name": "stdout"
        }
      ]
    },
    {
      "cell_type": "markdown",
      "metadata": {
        "id": "ZVOaNps8O-qu"
      },
      "source": [
        "### (Q18)"
      ]
    },
    {
      "cell_type": "code",
      "metadata": {
        "colab": {
          "base_uri": "https://localhost:8080/"
        },
        "id": "Hdo6ppNBQBtC",
        "outputId": "fbfcac4f-fed6-4603-c9d4-1d81118c1ebf"
      },
      "source": [
        "table_printing_values_18 = []\n",
        "table_printing_values_18.append(['Linear', '4', 'M', train_mse_male, valid_mse_male])\n",
        "table_printing_values_18.append(['Polynomial', '5', 'M', train_quadratic_mse_male, valid_quadratic_mse_male])\n",
        "table_printing_values_18.append(['Linear', '4', 'F', train_mse_female, valid_mse_female])\n",
        "table_printing_values_18.append(['Polynomial', '5', 'F', train_quadratic_mse_female, valid_quadratic_mse_female])\n",
        "\n",
        "print(tabulate(table_printing_values_18, headers=['Multilevel Model', 'Section', 'Sex', 'Train MSE', 'Valid MSE'], tablefmt='github'))"
      ],
      "execution_count": 606,
      "outputs": [
        {
          "output_type": "stream",
          "text": [
            "| Multilevel Model   |   Section | Sex   |   Train MSE |   Valid MSE |\n",
            "|--------------------|-----------|-------|-------------|-------------|\n",
            "| Linear             |         4 | M     |  0.0049936  |  0.00538517 |\n",
            "| Polynomial         |         5 | M     |  0.00488226 |  0.00534881 |\n",
            "| Linear             |         4 | F     |  0.00272449 |  0.00285692 |\n",
            "| Polynomial         |         5 | F     |  0.00201593 |  0.00228318 |\n"
          ],
          "name": "stdout"
        }
      ]
    },
    {
      "cell_type": "markdown",
      "metadata": {
        "id": "rPDmsdeUQQa9"
      },
      "source": [
        "### (Q19) - in the report PDF"
      ]
    },
    {
      "cell_type": "markdown",
      "metadata": {
        "id": "raHHDXEOTwch"
      },
      "source": [
        "### (Q20)"
      ]
    },
    {
      "cell_type": "code",
      "metadata": {
        "colab": {
          "base_uri": "https://localhost:8080/"
        },
        "id": "0750BIs6T0GC",
        "outputId": "7373cd3c-3511-4ead-9a3d-9401d6352eea"
      },
      "source": [
        "h_combined = MultiRegressor(Ridge(alpha=valid_quadratic_mse_male_ridge_best_performing_alpha_hyperparameter, fit_intercept=True), Ridge(alpha=valid_quadratic_mse_female_ridge_best_performing_alpha_hyperparameter, fit_intercept=True))\n",
        "train_quadratic_mse_combined, valid_quadratic_mse_combined = CV_evaluation(h_combined, X_train_quadratic, Y_train)\n",
        "\n",
        "string_of_best_hyperparameters = 'Male: ' + str(valid_quadratic_mse_male_ridge_best_performing_alpha_hyperparameter) + ', Female: ' + str(valid_quadratic_mse_female_ridge_best_performing_alpha_hyperparameter)\n",
        "table_printing_values.append(['Multilevel polynomial', '5', train_quadratic_mse_combined, valid_quadratic_mse_combined, string_of_best_hyperparameters])\n",
        "print(tabulate(table_printing_values, headers=table_printing_headers))"
      ],
      "execution_count": 607,
      "outputs": [
        {
          "output_type": "stream",
          "text": [
            "Model                    Section    Train MSE    Valid MSE  Best hyperparameter\n",
            "---------------------  ---------  -----------  -----------  ---------------------------------------------------\n",
            "Dummy                          2   0.0125773    0.0125841   -\n",
            "Basic linear                   3   0.00763784   0.00785328  19.116440753857038\n",
            "Multilevel linear              4   0.00385955   0.00411674  Male: 42.97004704320844, Female: 153.43684089300132\n",
            "Multilevel polynomial          5   0.00344995   0.00381305  Male: 48.241087041653735, Female: 68.26071834272393\n"
          ],
          "name": "stdout"
        }
      ]
    },
    {
      "cell_type": "code",
      "metadata": {
        "id": "MHKg-0ApYUdW"
      },
      "source": [
        "# Save the model for Section 8\n",
        "h_combined_5 = h_combined\n",
        "\n",
        "# Retrain the Multilevel Polynomial regressor on the entire train set and save it for future use (Section 6)\n",
        "multilevel_polynomial_regressor_fitted_entire_train_set = h_combined.fit(X_train_quadratic, Y_train)"
      ],
      "execution_count": 608,
      "outputs": []
    },
    {
      "cell_type": "markdown",
      "metadata": {
        "id": "1mYrEpwbR8WR"
      },
      "source": [
        "# Section 6: Testing your models"
      ]
    },
    {
      "cell_type": "markdown",
      "metadata": {
        "id": "7rIK06NV9eUg"
      },
      "source": [
        "### (Q21)"
      ]
    },
    {
      "cell_type": "code",
      "metadata": {
        "colab": {
          "base_uri": "https://localhost:8080/"
        },
        "id": "Ig1DBcDQ00Ed",
        "outputId": "855ac6fb-48a8-47d5-ee05-a6342fc64b54"
      },
      "source": [
        "from sklearn.metrics import mean_squared_error\n",
        "\n",
        "Y_test_predicted = dummy_regressor_fitted_entire_train_set.predict(X_test)\n",
        "dummy_test_mse = mean_squared_error(Y_test, Y_test_predicted)\n",
        "table_printing_values[0][4] = dummy_test_mse\n",
        "\n",
        "Y_test_predicted = ridge_regressor_fitted_entire_train_set.predict(X_test)\n",
        "ridge_test_mse = mean_squared_error(Y_test, Y_test_predicted)\n",
        "table_printing_values[1][4] = ridge_test_mse\n",
        "\n",
        "Y_test_predicted = multilevel_regressor_fitted_entire_train_set.predict(X_test)\n",
        "multilevel_linear_test_mse = mean_squared_error(Y_test, Y_test_predicted)\n",
        "table_printing_values[2][4] = multilevel_linear_test_mse\n",
        "\n",
        "Y_test_predicted = multilevel_polynomial_regressor_fitted_entire_train_set.predict(X_test_quadratic)\n",
        "multilevel_polynomial_test_mse = mean_squared_error(Y_test, Y_test_predicted)\n",
        "table_printing_values[3][4] = multilevel_polynomial_test_mse\n",
        "\n",
        "table_printing_headers[4] = 'Test MSE'\n",
        "print(tabulate(table_printing_values, headers=table_printing_headers))"
      ],
      "execution_count": 609,
      "outputs": [
        {
          "output_type": "stream",
          "text": [
            "Model                    Section    Train MSE    Valid MSE    Test MSE\n",
            "---------------------  ---------  -----------  -----------  ----------\n",
            "Dummy                          2   0.0125773    0.0125841   0.0115347\n",
            "Basic linear                   3   0.00763784   0.00785328  0.00740465\n",
            "Multilevel linear              4   0.00385955   0.00411674  0.00363375\n",
            "Multilevel polynomial          5   0.00344995   0.00381305  0.00315561\n"
          ],
          "name": "stdout"
        }
      ]
    },
    {
      "cell_type": "markdown",
      "metadata": {
        "id": "b-uDsdkNQWd6"
      },
      "source": [
        "### (Q22) - in the report PDF"
      ]
    },
    {
      "cell_type": "markdown",
      "metadata": {
        "id": "_q-DjXNnQdkN"
      },
      "source": [
        "# Section 7: Custom models challange"
      ]
    },
    {
      "cell_type": "code",
      "metadata": {
        "id": "ULGp5nM2YoEw"
      },
      "source": [
        "class MultiRegressor7(BaseEstimator, RegressorMixin):\n",
        "  def __init__(self, h_male, h_female):\n",
        "    self.h_male = h_male\n",
        "    self.h_female = h_female\n",
        "\n",
        "  def fit(self, X, y):\n",
        "    X_m = X[X['Sex'] == 0]\n",
        "    X_m = X_m.drop('Sex', axis='columns')\n",
        "\n",
        "    X_f = X[X['Sex'] == 1]\n",
        "    X_f = X_f.drop('Sex', axis='columns')\n",
        "\n",
        "    self.h_male.fit(X_m, y[X['Sex'] == 0])\n",
        "    self.h_female.fit(X_f, y[X['Sex'] == 1])\n",
        "    return self\n",
        "\n",
        "  def predict(self, X):\n",
        "    # X should be a pandas dataframe\n",
        "    all_predictions = []\n",
        "    for index, x in X.iterrows():\n",
        "      x_without_sex = x.drop('Sex')\n",
        "      y_pred = self.h_male.predict([x_without_sex]) if x['Sex'] == 0 else self.h_female.predict([x_without_sex])\n",
        "      all_predictions.append(y_pred[0])\n",
        "    return all_predictions"
      ],
      "execution_count": 610,
      "outputs": []
    },
    {
      "cell_type": "code",
      "metadata": {
        "colab": {
          "base_uri": "https://localhost:8080/"
        },
        "id": "F1HRhRO7Wl4S",
        "outputId": "6172f1cf-9aba-4f51-b75c-d9725998bcd4"
      },
      "source": [
        "from sklearn import linear_model\n",
        "from sklearn.ensemble import AdaBoostRegressor\n",
        "\n",
        "section_7_h_combined = MultiRegressor7(AdaBoostRegressor(random_state=0, n_estimators=1, loss='exponential'), AdaBoostRegressor(random_state=0, n_estimators=1, loss='exponential'))\n",
        "section_7_train_mse_combined, section_7_valid_mse_combined = CV_evaluation(section_7_h_combined, X_train_quadratic, Y_train)\n",
        "\n",
        "# Test prediction:\n",
        "section_7_regressor_fitted_entire_train_set = section_7_h_combined.fit(X_train_quadratic, Y_train)\n",
        "\n",
        "Y_test_predicted = section_7_regressor_fitted_entire_train_set.predict(X_test_quadratic)\n",
        "section_7_test_mse = mean_squared_error(Y_test, Y_test_predicted)\n",
        "\n",
        "\n",
        "section_7_table_printing_headers = ['Model', 'Section', 'Train MSE', 'Valid MSE', 'Test MSE']\n",
        "section_7_table_printing_values = [['Multilevel Lasso', '7', section_7_train_mse_combined, section_7_valid_mse_combined, section_7_test_mse]]\n",
        "print(tabulate(section_7_table_printing_values, headers=section_7_table_printing_headers, tablefmt='github'))"
      ],
      "execution_count": 611,
      "outputs": [
        {
          "output_type": "stream",
          "text": [
            "/usr/local/lib/python3.7/dist-packages/sklearn/utils/validation.py:760: DataConversionWarning: A column-vector y was passed when a 1d array was expected. Please change the shape of y to (n_samples, ), for example using ravel().\n",
            "  y = column_or_1d(y, warn=True)\n",
            "/usr/local/lib/python3.7/dist-packages/sklearn/utils/validation.py:760: DataConversionWarning: A column-vector y was passed when a 1d array was expected. Please change the shape of y to (n_samples, ), for example using ravel().\n",
            "  y = column_or_1d(y, warn=True)\n",
            "/usr/local/lib/python3.7/dist-packages/sklearn/utils/validation.py:760: DataConversionWarning: A column-vector y was passed when a 1d array was expected. Please change the shape of y to (n_samples, ), for example using ravel().\n",
            "  y = column_or_1d(y, warn=True)\n",
            "/usr/local/lib/python3.7/dist-packages/sklearn/utils/validation.py:760: DataConversionWarning: A column-vector y was passed when a 1d array was expected. Please change the shape of y to (n_samples, ), for example using ravel().\n",
            "  y = column_or_1d(y, warn=True)\n",
            "/usr/local/lib/python3.7/dist-packages/sklearn/utils/validation.py:760: DataConversionWarning: A column-vector y was passed when a 1d array was expected. Please change the shape of y to (n_samples, ), for example using ravel().\n",
            "  y = column_or_1d(y, warn=True)\n",
            "/usr/local/lib/python3.7/dist-packages/sklearn/utils/validation.py:760: DataConversionWarning: A column-vector y was passed when a 1d array was expected. Please change the shape of y to (n_samples, ), for example using ravel().\n",
            "  y = column_or_1d(y, warn=True)\n",
            "/usr/local/lib/python3.7/dist-packages/sklearn/utils/validation.py:760: DataConversionWarning: A column-vector y was passed when a 1d array was expected. Please change the shape of y to (n_samples, ), for example using ravel().\n",
            "  y = column_or_1d(y, warn=True)\n",
            "/usr/local/lib/python3.7/dist-packages/sklearn/utils/validation.py:760: DataConversionWarning: A column-vector y was passed when a 1d array was expected. Please change the shape of y to (n_samples, ), for example using ravel().\n",
            "  y = column_or_1d(y, warn=True)\n",
            "/usr/local/lib/python3.7/dist-packages/sklearn/utils/validation.py:760: DataConversionWarning: A column-vector y was passed when a 1d array was expected. Please change the shape of y to (n_samples, ), for example using ravel().\n",
            "  y = column_or_1d(y, warn=True)\n",
            "/usr/local/lib/python3.7/dist-packages/sklearn/utils/validation.py:760: DataConversionWarning: A column-vector y was passed when a 1d array was expected. Please change the shape of y to (n_samples, ), for example using ravel().\n",
            "  y = column_or_1d(y, warn=True)\n",
            "/usr/local/lib/python3.7/dist-packages/sklearn/utils/validation.py:760: DataConversionWarning: A column-vector y was passed when a 1d array was expected. Please change the shape of y to (n_samples, ), for example using ravel().\n",
            "  y = column_or_1d(y, warn=True)\n",
            "/usr/local/lib/python3.7/dist-packages/sklearn/utils/validation.py:760: DataConversionWarning: A column-vector y was passed when a 1d array was expected. Please change the shape of y to (n_samples, ), for example using ravel().\n",
            "  y = column_or_1d(y, warn=True)\n"
          ],
          "name": "stderr"
        },
        {
          "output_type": "stream",
          "text": [
            "| Model            |   Section |   Train MSE |   Valid MSE |   Test MSE |\n",
            "|------------------|-----------|-------------|-------------|------------|\n",
            "| Multilevel Lasso |         7 |  0.00563536 |  0.00630418 | 0.00546193 |\n"
          ],
          "name": "stdout"
        }
      ]
    },
    {
      "cell_type": "markdown",
      "metadata": {
        "id": "_3h_oyyF5JBF"
      },
      "source": [
        "### (Q23) - in the report PDF"
      ]
    },
    {
      "cell_type": "markdown",
      "metadata": {
        "id": "zO7SNSbm-4x7"
      },
      "source": [
        "# Section 8: Submitted model predictions"
      ]
    },
    {
      "cell_type": "code",
      "metadata": {
        "colab": {
          "base_uri": "https://localhost:8080/"
        },
        "id": "CMFpDdEy7Npu",
        "outputId": "6670af42-21d3-4fd2-f455-b91fd4cb8ca0"
      },
      "source": [
        "##### Loading the variant_unlabeled.csv file from Github: #####\n",
        "variant_unlabeled_csv_file_path = 'https://raw.githubusercontent.com/chenp640/ML_Major_HW1/main/variant_unlabeled.csv'\n",
        "\n",
        "# Import csv file to pandas\n",
        "unlabeled_test_set = pd.read_csv(variant_unlabeled_csv_file_path, sep=',', header=0)\n",
        "print (\"The shape of loaded 'Variant_unlabeled' DataFrame is: \", end='')\n",
        "unlabeled_test_set.shape"
      ],
      "execution_count": 612,
      "outputs": [
        {
          "output_type": "stream",
          "text": [
            "The shape of loaded 'Variant_unlabeled' DataFrame is: "
          ],
          "name": "stdout"
        },
        {
          "output_type": "execute_result",
          "data": {
            "text/plain": [
              "(2000, 33)"
            ]
          },
          "metadata": {
            "tags": []
          },
          "execution_count": 612
        }
      ]
    },
    {
      "cell_type": "code",
      "metadata": {
        "colab": {
          "base_uri": "https://localhost:8080/"
        },
        "id": "8-blPKIUF2Pd",
        "outputId": "c02147e6-79e4-424c-ee57-1a8ef3f0534c"
      },
      "source": [
        "unlabeled_test_set_column_names = unlabeled_test_set.columns\n",
        "\n",
        "print(\"Num of missing values (NaN) for each feature on unlabeled_test_set:\", end='\\n\\n')\n",
        "for i in range (len(unlabeled_test_set_column_names)):\n",
        "  print(unlabeled_test_set_column_names[i], \"     \", unlabeled_test_set[unlabeled_test_set_column_names[i]].isnull().sum())"
      ],
      "execution_count": 613,
      "outputs": [
        {
          "output_type": "stream",
          "text": [
            "Num of missing values (NaN) for each feature on unlabeled_test_set:\n",
            "\n",
            "ID       0\n",
            "AgeGroup       207\n",
            "BMI       212\n",
            "BloodType       215\n",
            "ConversatiosPerDay       218\n",
            "DisciplineScore       188\n",
            "HappinessScore       206\n",
            "HouseholdExpenseOnPresents       208\n",
            "HouseholdExpenseOnSocialGames       199\n",
            "HouseholdExpenseParkingTicketsPerYear       190\n",
            "MedicalCarePerYear       197\n",
            "NrCousins       207\n",
            "PCR_10       212\n",
            "PCR_17       215\n",
            "PCR_19       205\n",
            "PCR_32       211\n",
            "PCR_45       217\n",
            "PCR_46       182\n",
            "PCR_7       214\n",
            "PCR_72       178\n",
            "PCR_76       223\n",
            "PCR_8       196\n",
            "PCR_83       201\n",
            "PCR_89       207\n",
            "PCR_9       205\n",
            "PCR_93       190\n",
            "PCR_95       211\n",
            "Sex       0\n",
            "SocialActivitiesPerDay       202\n",
            "SocialMediaPerDay       204\n",
            "SportsPerDay       202\n",
            "StepsPerYear       207\n",
            "StudingPerDay       211\n"
          ],
          "name": "stdout"
        }
      ]
    },
    {
      "cell_type": "code",
      "metadata": {
        "id": "3QCwdW-jGiix"
      },
      "source": [
        "# Fill missing values by distribution of non-missing values for all the features\n",
        "fillMissingValues(unlabeled_test_set, unlabeled_test_set_column_names)"
      ],
      "execution_count": 614,
      "outputs": []
    },
    {
      "cell_type": "code",
      "metadata": {
        "colab": {
          "base_uri": "https://localhost:8080/"
        },
        "id": "9SnTy_hqGtPQ",
        "outputId": "779a5447-0c93-40a7-b838-7a739e5eb6a7"
      },
      "source": [
        "print(\"Num of missing values (NaN) for each feature on unlabeled_test_set after filling missing values:\", end='\\n\\n')\n",
        "for i in range (len(unlabeled_test_set_column_names)):\n",
        "  print(unlabeled_test_set_column_names[i], \"     \", unlabeled_test_set[unlabeled_test_set_column_names[i]].isnull().sum())"
      ],
      "execution_count": 615,
      "outputs": [
        {
          "output_type": "stream",
          "text": [
            "Num of missing values (NaN) for each feature on unlabeled_test_set after filling missing values:\n",
            "\n",
            "ID       0\n",
            "AgeGroup       0\n",
            "BMI       0\n",
            "BloodType       0\n",
            "ConversatiosPerDay       0\n",
            "DisciplineScore       0\n",
            "HappinessScore       0\n",
            "HouseholdExpenseOnPresents       0\n",
            "HouseholdExpenseOnSocialGames       0\n",
            "HouseholdExpenseParkingTicketsPerYear       0\n",
            "MedicalCarePerYear       0\n",
            "NrCousins       0\n",
            "PCR_10       0\n",
            "PCR_17       0\n",
            "PCR_19       0\n",
            "PCR_32       0\n",
            "PCR_45       0\n",
            "PCR_46       0\n",
            "PCR_7       0\n",
            "PCR_72       0\n",
            "PCR_76       0\n",
            "PCR_8       0\n",
            "PCR_83       0\n",
            "PCR_89       0\n",
            "PCR_9       0\n",
            "PCR_93       0\n",
            "PCR_95       0\n",
            "Sex       0\n",
            "SocialActivitiesPerDay       0\n",
            "SocialMediaPerDay       0\n",
            "SportsPerDay       0\n",
            "StepsPerYear       0\n",
            "StudingPerDay       0\n"
          ],
          "name": "stdout"
        }
      ]
    },
    {
      "cell_type": "code",
      "metadata": {
        "id": "2exWyXQcHFCs"
      },
      "source": [
        "# Transform BloodType from Category to Numeric\n",
        "unlabeled_test_set['BloodType'] = [BloodTypeConvert(x) for x in unlabeled_test_set['BloodType'].to_list()]\n",
        "\n",
        "# Transform Sex from Category to Numeric ('0' for Male, '1' for Female)\n",
        "unlabeled_test_set['Sex'] = [0 if x == 'M' else 1 for x in unlabeled_test_set['Sex'].to_list()]"
      ],
      "execution_count": 616,
      "outputs": []
    },
    {
      "cell_type": "code",
      "metadata": {
        "id": "bNz25yvjHWYk"
      },
      "source": [
        "#Dropping the correlated features\n",
        "unlabeled_test_set = unlabeled_test_set.drop(columns=['HappinessScore', 'HouseholdExpenseOnPresents', 'NrCousins', 'HouseholdExpenseOnSocialGames', 'StepsPerYear', 'HouseholdExpenseParkingTicketsPerYear'])"
      ],
      "execution_count": 617,
      "outputs": []
    },
    {
      "cell_type": "code",
      "metadata": {
        "id": "2c4Au9NUHlVX"
      },
      "source": [
        "# Normalization:\n",
        "norm(unlabeled_test_set)"
      ],
      "execution_count": 618,
      "outputs": []
    },
    {
      "cell_type": "code",
      "metadata": {
        "id": "0wfHoWNSECF4"
      },
      "source": [
        "final_X_train = pd.concat([X_train, X_test])\n",
        "final_X_train_quadratic = pd.concat([X_train_quadratic, X_test_quadratic])\n",
        "final_Y_train = pd.concat([Y_train, Y_test])\n",
        "\n",
        "unlabeled_test_set_ID = unlabeled_test_set['ID']\n",
        "\n",
        "# pred_3\n",
        "ridge_regr_3.fit(final_X_train, final_Y_train)\n",
        "pred_3 = ridge_regr_3.predict(unlabeled_test_set)\n",
        "pred_3 = [x[0] for x in pred_3]\n",
        "pred_3 = pd.DataFrame({'VariantScore' : pred_3})\n",
        "pred_3 = pd.concat([unlabeled_test_set_ID, pred_3], axis=1, join=\"inner\")\n",
        "\n",
        "# pred_4\n",
        "h_combined_4.fit(final_X_train, final_Y_train)\n",
        "pred_4 = h_combined_4.predict(unlabeled_test_set)\n",
        "pred_4 = pd.DataFrame({'VariantScore' : pred_4})\n",
        "pred_4 = pd.concat([unlabeled_test_set_ID, pred_4], axis=1, join=\"inner\")\n",
        "\n",
        "# pred_5\n",
        "unlabeled_test_set_quadratic = unlabeled_test_set.copy()\n",
        "col_names = unlabeled_test_set_quadratic.columns\n",
        "\n",
        "for col in col_names:\n",
        "  if col != 'Sex' and col != 'ID':\n",
        "    corresponding_quadratic_col_name = col + '_quad'\n",
        "    unlabeled_test_set_quadratic[corresponding_quadratic_col_name] = [(x * x) for x in unlabeled_test_set_quadratic[col]]\n",
        "\n",
        "h_combined_5.fit(final_X_train_quadratic, final_Y_train)\n",
        "pred_5 = h_combined_5.predict(unlabeled_test_set_quadratic)\n",
        "pred_5 = pd.DataFrame({'VariantScore' : pred_5})\n",
        "pred_5 = pd.concat([unlabeled_test_set_ID, pred_5], axis=1, join=\"inner\")"
      ],
      "execution_count": 619,
      "outputs": []
    },
    {
      "cell_type": "code",
      "metadata": {
        "colab": {
          "base_uri": "https://localhost:8080/",
          "height": 17
        },
        "id": "Kl3mHX7YD-Kp",
        "outputId": "b3ab386a-04e1-428a-9abb-de5602b3e926"
      },
      "source": [
        "from google.colab import files\n",
        "\n",
        "# pred_3 csv file generate and download\n",
        "pred_3_csv_filename = \"pred_3.csv\"\n",
        "pred_3.to_csv(pred_3_csv_filename)\n",
        "files.download(pred_3_csv_filename)\n",
        "\n",
        "# pred_4 csv file generate and download\n",
        "pred_4_csv_filename = \"pred_4.csv\"\n",
        "pred_4.to_csv(pred_4_csv_filename)\n",
        "files.download(pred_4_csv_filename)\n",
        "\n",
        "# pred_5 csv file generate and download\n",
        "pred_5_csv_filename = \"pred_5.csv\"\n",
        "pred_5.to_csv(pred_5_csv_filename)\n",
        "files.download(pred_5_csv_filename)\n",
        "\n",
        "# # pred_7 csv file generate and download\n",
        "# pred_7_csv_filename = \"pred_7.csv\"\n",
        "# pred_7.to_csv(pred_7_csv_filename)\n",
        "# files.download(pred_7_csv_filename)"
      ],
      "execution_count": 620,
      "outputs": [
        {
          "output_type": "display_data",
          "data": {
            "application/javascript": [
              "\n",
              "    async function download(id, filename, size) {\n",
              "      if (!google.colab.kernel.accessAllowed) {\n",
              "        return;\n",
              "      }\n",
              "      const div = document.createElement('div');\n",
              "      const label = document.createElement('label');\n",
              "      label.textContent = `Downloading \"${filename}\": `;\n",
              "      div.appendChild(label);\n",
              "      const progress = document.createElement('progress');\n",
              "      progress.max = size;\n",
              "      div.appendChild(progress);\n",
              "      document.body.appendChild(div);\n",
              "\n",
              "      const buffers = [];\n",
              "      let downloaded = 0;\n",
              "\n",
              "      const channel = await google.colab.kernel.comms.open(id);\n",
              "      // Send a message to notify the kernel that we're ready.\n",
              "      channel.send({})\n",
              "\n",
              "      for await (const message of channel.messages) {\n",
              "        // Send a message to notify the kernel that we're ready.\n",
              "        channel.send({})\n",
              "        if (message.buffers) {\n",
              "          for (const buffer of message.buffers) {\n",
              "            buffers.push(buffer);\n",
              "            downloaded += buffer.byteLength;\n",
              "            progress.value = downloaded;\n",
              "          }\n",
              "        }\n",
              "      }\n",
              "      const blob = new Blob(buffers, {type: 'application/binary'});\n",
              "      const a = document.createElement('a');\n",
              "      a.href = window.URL.createObjectURL(blob);\n",
              "      a.download = filename;\n",
              "      div.appendChild(a);\n",
              "      a.click();\n",
              "      div.remove();\n",
              "    }\n",
              "  "
            ],
            "text/plain": [
              "<IPython.core.display.Javascript object>"
            ]
          },
          "metadata": {
            "tags": []
          }
        },
        {
          "output_type": "display_data",
          "data": {
            "application/javascript": [
              "download(\"download_a9f28622-d080-4bc9-8773-496bc93455e3\", \"pred_3.csv\", 57406)"
            ],
            "text/plain": [
              "<IPython.core.display.Javascript object>"
            ]
          },
          "metadata": {
            "tags": []
          }
        },
        {
          "output_type": "display_data",
          "data": {
            "application/javascript": [
              "\n",
              "    async function download(id, filename, size) {\n",
              "      if (!google.colab.kernel.accessAllowed) {\n",
              "        return;\n",
              "      }\n",
              "      const div = document.createElement('div');\n",
              "      const label = document.createElement('label');\n",
              "      label.textContent = `Downloading \"${filename}\": `;\n",
              "      div.appendChild(label);\n",
              "      const progress = document.createElement('progress');\n",
              "      progress.max = size;\n",
              "      div.appendChild(progress);\n",
              "      document.body.appendChild(div);\n",
              "\n",
              "      const buffers = [];\n",
              "      let downloaded = 0;\n",
              "\n",
              "      const channel = await google.colab.kernel.comms.open(id);\n",
              "      // Send a message to notify the kernel that we're ready.\n",
              "      channel.send({})\n",
              "\n",
              "      for await (const message of channel.messages) {\n",
              "        // Send a message to notify the kernel that we're ready.\n",
              "        channel.send({})\n",
              "        if (message.buffers) {\n",
              "          for (const buffer of message.buffers) {\n",
              "            buffers.push(buffer);\n",
              "            downloaded += buffer.byteLength;\n",
              "            progress.value = downloaded;\n",
              "          }\n",
              "        }\n",
              "      }\n",
              "      const blob = new Blob(buffers, {type: 'application/binary'});\n",
              "      const a = document.createElement('a');\n",
              "      a.href = window.URL.createObjectURL(blob);\n",
              "      a.download = filename;\n",
              "      div.appendChild(a);\n",
              "      a.click();\n",
              "      div.remove();\n",
              "    }\n",
              "  "
            ],
            "text/plain": [
              "<IPython.core.display.Javascript object>"
            ]
          },
          "metadata": {
            "tags": []
          }
        },
        {
          "output_type": "display_data",
          "data": {
            "application/javascript": [
              "download(\"download_be0194d1-9d06-4f0e-bd80-26540defbb45\", \"pred_4.csv\", 57613)"
            ],
            "text/plain": [
              "<IPython.core.display.Javascript object>"
            ]
          },
          "metadata": {
            "tags": []
          }
        },
        {
          "output_type": "display_data",
          "data": {
            "application/javascript": [
              "\n",
              "    async function download(id, filename, size) {\n",
              "      if (!google.colab.kernel.accessAllowed) {\n",
              "        return;\n",
              "      }\n",
              "      const div = document.createElement('div');\n",
              "      const label = document.createElement('label');\n",
              "      label.textContent = `Downloading \"${filename}\": `;\n",
              "      div.appendChild(label);\n",
              "      const progress = document.createElement('progress');\n",
              "      progress.max = size;\n",
              "      div.appendChild(progress);\n",
              "      document.body.appendChild(div);\n",
              "\n",
              "      const buffers = [];\n",
              "      let downloaded = 0;\n",
              "\n",
              "      const channel = await google.colab.kernel.comms.open(id);\n",
              "      // Send a message to notify the kernel that we're ready.\n",
              "      channel.send({})\n",
              "\n",
              "      for await (const message of channel.messages) {\n",
              "        // Send a message to notify the kernel that we're ready.\n",
              "        channel.send({})\n",
              "        if (message.buffers) {\n",
              "          for (const buffer of message.buffers) {\n",
              "            buffers.push(buffer);\n",
              "            downloaded += buffer.byteLength;\n",
              "            progress.value = downloaded;\n",
              "          }\n",
              "        }\n",
              "      }\n",
              "      const blob = new Blob(buffers, {type: 'application/binary'});\n",
              "      const a = document.createElement('a');\n",
              "      a.href = window.URL.createObjectURL(blob);\n",
              "      a.download = filename;\n",
              "      div.appendChild(a);\n",
              "      a.click();\n",
              "      div.remove();\n",
              "    }\n",
              "  "
            ],
            "text/plain": [
              "<IPython.core.display.Javascript object>"
            ]
          },
          "metadata": {
            "tags": []
          }
        },
        {
          "output_type": "display_data",
          "data": {
            "application/javascript": [
              "download(\"download_9d0442f8-9451-4ac6-b94d-7e7ed44d303b\", \"pred_5.csv\", 57611)"
            ],
            "text/plain": [
              "<IPython.core.display.Javascript object>"
            ]
          },
          "metadata": {
            "tags": []
          }
        }
      ]
    }
  ]
}